{
 "cells": [
  {
   "cell_type": "code",
   "metadata": {
    "tags": [],
    "cell_id": "00000-03cd5325-973c-4607-aa61-5759b2432759",
    "deepnote_to_be_reexecuted": false,
    "source_hash": "506ddf9b",
    "execution_start": 1633740181759,
    "execution_millis": 0,
    "deepnote_cell_type": "code"
   },
   "source": "import pandas as pd\nimport numpy as np\n#import requests\nimport spotipy\nimport json\nimport spotipy\nfrom spotipy.oauth2 import SpotifyClientCredentials",
   "execution_count": 9,
   "outputs": []
  },
  {
   "cell_type": "code",
   "metadata": {
    "tags": [],
    "cell_id": "00001-67f806c5-b549-45b2-9910-7bd599bf037b",
    "deepnote_to_be_reexecuted": false,
    "source_hash": "51765ffa",
    "execution_start": 1633740184408,
    "execution_millis": 157,
    "deepnote_cell_type": "code"
   },
   "source": "with open('Credenciales.json') as file:\n    cred = json.load(file)['Credenciales'][0]",
   "execution_count": 10,
   "outputs": []
  },
  {
   "cell_type": "code",
   "metadata": {
    "tags": [],
    "cell_id": "00002-8e11ddce-0c27-41e2-989e-9eb7d9613e3b",
    "deepnote_to_be_reexecuted": false,
    "source_hash": "8fb0b682",
    "execution_start": 1633740186757,
    "execution_millis": 2,
    "deepnote_cell_type": "code"
   },
   "source": "client_id = cred['client_id']\nclient_secret = cred['client_secret']",
   "execution_count": 11,
   "outputs": []
  },
  {
   "cell_type": "code",
   "source": "client_credentials_manager = SpotifyClientCredentials(client_id, client_secret)\nsp = spotipy.Spotify(client_credentials_manager=client_credentials_manager)\n\nplaylist_id='37i9dQZEVXbO3qyFxbkOE1'\nresults = sp.playlist(playlist_id)",
   "metadata": {
    "tags": [],
    "cell_id": "00003-2a8112e4-256c-491c-ae70-d4f2d9a694d5",
    "deepnote_to_be_reexecuted": false,
    "source_hash": "e635d2d7",
    "execution_start": 1633740189974,
    "execution_millis": 187,
    "deepnote_cell_type": "code"
   },
   "outputs": [],
   "execution_count": 12
  },
  {
   "cell_type": "code",
   "source": "ids=[]\n\nfor item in results['tracks']['items']:\n        track = item['track']['id']\n        ids.append(track)\n        \nsong_meta={'id':[],'album':[], 'name':[], \n           'artist':[],'explicit':[],'popularity':[]}\n\nfor song_id in ids:\n    # get song's meta data\n    meta = sp.track(song_id)\n    \n    # song id\n    song_meta['id'].append(song_id)\n\n    # album name\n    album=meta['album']['name']\n    song_meta['album']+=[album]\n\n    # song name\n    song=meta['name']\n    song_meta['name']+=[song]\n    \n    # artists name\n    s = ', '\n    artist=s.join([singer_name['name'] for singer_name in meta['artists']])\n    song_meta['artist']+=[artist]\n    \n    # explicit: lyrics could be considered offensive or unsuitable for children\n    explicit=meta['explicit']\n    song_meta['explicit'].append(explicit)\n    \n    # song popularity\n    popularity=meta['popularity']\n    song_meta['popularity'].append(popularity)\n\nsong_meta_df=pd.DataFrame.from_dict(song_meta)\n\n# check the song feature\nfeatures = sp.audio_features(song_meta['id'])\n# change dictionary to dataframe\nfeatures_df=pd.DataFrame.from_dict(features)\n\n# convert milliseconds to mins\n# duration_ms: The duration of the track in milliseconds.\n# 1 minute = 60 seconds = 60 × 1000 milliseconds = 60,000 ms\nfeatures_df['duration_ms']=features_df['duration_ms']/60000\n\n# combine two dataframe\nfinal_df=song_meta_df.merge(features_df)",
   "metadata": {
    "tags": [],
    "cell_id": "00004-8c7a2c55-0413-4ee9-8bba-93ecc78d4503",
    "deepnote_to_be_reexecuted": false,
    "source_hash": "6b2049a6",
    "execution_start": 1633738765946,
    "execution_millis": 2416,
    "deepnote_cell_type": "code"
   },
   "outputs": [],
   "execution_count": 7
  },
  {
   "cell_type": "code",
   "source": "final_df",
   "metadata": {
    "tags": [],
    "cell_id": "00004-c82e574e-8178-4026-b4c7-39e4afc410ef",
    "deepnote_to_be_reexecuted": false,
    "source_hash": "2a8f16c0",
    "execution_start": 1633738776858,
    "execution_millis": 199,
    "deepnote_cell_type": "code"
   },
   "outputs": [
    {
     "output_type": "execute_result",
     "execution_count": 8,
     "data": {
      "application/vnd.deepnote.dataframe.v2+json": {
       "row_count": 50,
       "column_count": 23,
       "columns": [
        {
         "name": "id",
         "dtype": "object",
         "stats": {
          "unique_count": 50,
          "nan_count": 0,
          "categories": [
           {
            "name": "4gzsuuZypVbxs0Af1LSZyB",
            "count": 1
           },
           {
            "name": "2JPLbjOn0wPCngEot2STUS",
            "count": 1
           },
           {
            "name": "48 others",
            "count": 48
           }
          ]
         }
        },
        {
         "name": "album",
         "dtype": "object",
         "stats": {
          "unique_count": 47,
          "nan_count": 0,
          "categories": [
           {
            "name": "VICE VERSA",
            "count": 3
           },
           {
            "name": "JOSE",
            "count": 2
           },
           {
            "name": "45 others",
            "count": 45
           }
          ]
         }
        },
        {
         "name": "name",
         "dtype": "object",
         "stats": {
          "unique_count": 50,
          "nan_count": 0,
          "categories": [
           {
            "name": "Lo Siento BB:/ (with Bad Bunny & Julieta Venegas)",
            "count": 1
           },
           {
            "name": "Yonaguni",
            "count": 1
           },
           {
            "name": "48 others",
            "count": 48
           }
          ]
         }
        },
        {
         "name": "artist",
         "dtype": "object",
         "stats": {
          "unique_count": 46,
          "nan_count": 0,
          "categories": [
           {
            "name": "Rauw Alejandro",
            "count": 3
           },
           {
            "name": "Calibre 50",
            "count": 2
           },
           {
            "name": "44 others",
            "count": 45
           }
          ]
         }
        },
        {
         "name": "explicit",
         "dtype": "bool",
         "stats": {
          "unique_count": 2,
          "nan_count": 0,
          "categories": [
           {
            "name": "False",
            "count": 35
           },
           {
            "name": "True",
            "count": 15
           }
          ]
         }
        },
        {
         "name": "popularity",
         "dtype": "int64",
         "stats": {
          "unique_count": 20,
          "nan_count": 0,
          "min": "71",
          "max": "96",
          "histogram": [
           {
            "bin_start": 71,
            "bin_end": 73.5,
            "count": 2
           },
           {
            "bin_start": 73.5,
            "bin_end": 76,
            "count": 1
           },
           {
            "bin_start": 76,
            "bin_end": 78.5,
            "count": 7
           },
           {
            "bin_start": 78.5,
            "bin_end": 81,
            "count": 8
           },
           {
            "bin_start": 81,
            "bin_end": 83.5,
            "count": 6
           },
           {
            "bin_start": 83.5,
            "bin_end": 86,
            "count": 6
           },
           {
            "bin_start": 86,
            "bin_end": 88.5,
            "count": 5
           },
           {
            "bin_start": 88.5,
            "bin_end": 91,
            "count": 8
           },
           {
            "bin_start": 91,
            "bin_end": 93.5,
            "count": 6
           },
           {
            "bin_start": 93.5,
            "bin_end": 96,
            "count": 1
           }
          ]
         }
        },
        {
         "name": "danceability",
         "dtype": "float64",
         "stats": {
          "unique_count": 48,
          "nan_count": 0,
          "min": "0.39",
          "max": "0.924",
          "histogram": [
           {
            "bin_start": 0.39,
            "bin_end": 0.4434,
            "count": 3
           },
           {
            "bin_start": 0.4434,
            "bin_end": 0.4968,
            "count": 0
           },
           {
            "bin_start": 0.4968,
            "bin_end": 0.5502,
            "count": 1
           },
           {
            "bin_start": 0.5502,
            "bin_end": 0.6036,
            "count": 4
           },
           {
            "bin_start": 0.6036,
            "bin_end": 0.657,
            "count": 5
           },
           {
            "bin_start": 0.657,
            "bin_end": 0.7104,
            "count": 10
           },
           {
            "bin_start": 0.7104,
            "bin_end": 0.7638,
            "count": 14
           },
           {
            "bin_start": 0.7638,
            "bin_end": 0.8172,
            "count": 6
           },
           {
            "bin_start": 0.8172,
            "bin_end": 0.8706,
            "count": 4
           },
           {
            "bin_start": 0.8706,
            "bin_end": 0.924,
            "count": 3
           }
          ]
         }
        },
        {
         "name": "energy",
         "dtype": "float64",
         "stats": {
          "unique_count": 48,
          "nan_count": 0,
          "min": "0.159",
          "max": "0.86",
          "histogram": [
           {
            "bin_start": 0.159,
            "bin_end": 0.2291,
            "count": 1
           },
           {
            "bin_start": 0.2291,
            "bin_end": 0.2992,
            "count": 0
           },
           {
            "bin_start": 0.2992,
            "bin_end": 0.36929999999999996,
            "count": 2
           },
           {
            "bin_start": 0.36929999999999996,
            "bin_end": 0.4394,
            "count": 2
           },
           {
            "bin_start": 0.4394,
            "bin_end": 0.5095,
            "count": 6
           },
           {
            "bin_start": 0.5095,
            "bin_end": 0.5796,
            "count": 7
           },
           {
            "bin_start": 0.5796,
            "bin_end": 0.6496999999999999,
            "count": 7
           },
           {
            "bin_start": 0.6496999999999999,
            "bin_end": 0.7198,
            "count": 10
           },
           {
            "bin_start": 0.7198,
            "bin_end": 0.7899,
            "count": 10
           },
           {
            "bin_start": 0.7899,
            "bin_end": 0.86,
            "count": 5
           }
          ]
         }
        },
        {
         "name": "key",
         "dtype": "int64",
         "stats": {
          "unique_count": 12,
          "nan_count": 0,
          "min": "0",
          "max": "11",
          "histogram": [
           {
            "bin_start": 0,
            "bin_end": 1.1,
            "count": 14
           },
           {
            "bin_start": 1.1,
            "bin_end": 2.2,
            "count": 4
           },
           {
            "bin_start": 2.2,
            "bin_end": 3.3000000000000003,
            "count": 1
           },
           {
            "bin_start": 3.3000000000000003,
            "bin_end": 4.4,
            "count": 6
           },
           {
            "bin_start": 4.4,
            "bin_end": 5.5,
            "count": 3
           },
           {
            "bin_start": 5.5,
            "bin_end": 6.6000000000000005,
            "count": 4
           },
           {
            "bin_start": 6.6000000000000005,
            "bin_end": 7.700000000000001,
            "count": 3
           },
           {
            "bin_start": 7.700000000000001,
            "bin_end": 8.8,
            "count": 6
           },
           {
            "bin_start": 8.8,
            "bin_end": 9.9,
            "count": 4
           },
           {
            "bin_start": 9.9,
            "bin_end": 11,
            "count": 5
           }
          ]
         }
        },
        {
         "name": "loudness",
         "dtype": "float64",
         "stats": {
          "unique_count": 50,
          "nan_count": 0,
          "min": "-14.461",
          "max": "-2.758",
          "histogram": [
           {
            "bin_start": -14.461,
            "bin_end": -13.290700000000001,
            "count": 1
           },
           {
            "bin_start": -13.290700000000001,
            "bin_end": -12.1204,
            "count": 0
           },
           {
            "bin_start": -12.1204,
            "bin_end": -10.9501,
            "count": 0
           },
           {
            "bin_start": -10.9501,
            "bin_end": -9.779800000000002,
            "count": 2
           },
           {
            "bin_start": -9.779800000000002,
            "bin_end": -8.6095,
            "count": 1
           },
           {
            "bin_start": -8.6095,
            "bin_end": -7.439200000000001,
            "count": 4
           },
           {
            "bin_start": -7.439200000000001,
            "bin_end": -6.2689,
            "count": 9
           },
           {
            "bin_start": -6.2689,
            "bin_end": -5.098600000000001,
            "count": 8
           },
           {
            "bin_start": -5.098600000000001,
            "bin_end": -3.928300000000002,
            "count": 16
           },
           {
            "bin_start": -3.928300000000002,
            "bin_end": -2.758,
            "count": 9
           }
          ]
         }
        },
        {
         "name": "mode",
         "dtype": "int64",
         "stats": {
          "unique_count": 2,
          "nan_count": 0,
          "min": "0",
          "max": "1",
          "histogram": [
           {
            "bin_start": 0,
            "bin_end": 0.1,
            "count": 19
           },
           {
            "bin_start": 0.1,
            "bin_end": 0.2,
            "count": 0
           },
           {
            "bin_start": 0.2,
            "bin_end": 0.30000000000000004,
            "count": 0
           },
           {
            "bin_start": 0.30000000000000004,
            "bin_end": 0.4,
            "count": 0
           },
           {
            "bin_start": 0.4,
            "bin_end": 0.5,
            "count": 0
           },
           {
            "bin_start": 0.5,
            "bin_end": 0.6000000000000001,
            "count": 0
           },
           {
            "bin_start": 0.6000000000000001,
            "bin_end": 0.7000000000000001,
            "count": 0
           },
           {
            "bin_start": 0.7000000000000001,
            "bin_end": 0.8,
            "count": 0
           },
           {
            "bin_start": 0.8,
            "bin_end": 0.9,
            "count": 0
           },
           {
            "bin_start": 0.9,
            "bin_end": 1,
            "count": 31
           }
          ]
         }
        },
        {
         "name": "speechiness",
         "dtype": "float64",
         "stats": {
          "unique_count": 49,
          "nan_count": 0,
          "min": "0.0285",
          "max": "0.389",
          "histogram": [
           {
            "bin_start": 0.0285,
            "bin_end": 0.06455,
            "count": 25
           },
           {
            "bin_start": 0.06455,
            "bin_end": 0.1006,
            "count": 10
           },
           {
            "bin_start": 0.1006,
            "bin_end": 0.13665,
            "count": 5
           },
           {
            "bin_start": 0.13665,
            "bin_end": 0.1727,
            "count": 3
           },
           {
            "bin_start": 0.1727,
            "bin_end": 0.20875,
            "count": 2
           },
           {
            "bin_start": 0.20875,
            "bin_end": 0.2448,
            "count": 2
           },
           {
            "bin_start": 0.2448,
            "bin_end": 0.28085,
            "count": 1
           },
           {
            "bin_start": 0.28085,
            "bin_end": 0.3169,
            "count": 0
           },
           {
            "bin_start": 0.3169,
            "bin_end": 0.35295000000000004,
            "count": 1
           },
           {
            "bin_start": 0.35295000000000004,
            "bin_end": 0.389,
            "count": 1
           }
          ]
         }
        },
        {
         "name": "acousticness",
         "dtype": "float64",
         "stats": {
          "unique_count": 49,
          "nan_count": 0,
          "min": "0.00776",
          "max": "0.946",
          "histogram": [
           {
            "bin_start": 0.00776,
            "bin_end": 0.101584,
            "count": 10
           },
           {
            "bin_start": 0.101584,
            "bin_end": 0.19540799999999997,
            "count": 10
           },
           {
            "bin_start": 0.19540799999999997,
            "bin_end": 0.28923199999999993,
            "count": 7
           },
           {
            "bin_start": 0.28923199999999993,
            "bin_end": 0.38305599999999995,
            "count": 7
           },
           {
            "bin_start": 0.38305599999999995,
            "bin_end": 0.47687999999999997,
            "count": 7
           },
           {
            "bin_start": 0.47687999999999997,
            "bin_end": 0.5707039999999999,
            "count": 1
           },
           {
            "bin_start": 0.5707039999999999,
            "bin_end": 0.6645279999999999,
            "count": 3
           },
           {
            "bin_start": 0.6645279999999999,
            "bin_end": 0.7583519999999999,
            "count": 3
           },
           {
            "bin_start": 0.7583519999999999,
            "bin_end": 0.8521759999999999,
            "count": 1
           },
           {
            "bin_start": 0.8521759999999999,
            "bin_end": 0.946,
            "count": 1
           }
          ]
         }
        },
        {
         "name": "instrumentalness",
         "dtype": "float64",
         "stats": {
          "unique_count": 28,
          "nan_count": 0,
          "min": "0.0",
          "max": "0.0938",
          "histogram": [
           {
            "bin_start": 0,
            "bin_end": 0.00938,
            "count": 48
           },
           {
            "bin_start": 0.00938,
            "bin_end": 0.01876,
            "count": 0
           },
           {
            "bin_start": 0.01876,
            "bin_end": 0.02814,
            "count": 1
           },
           {
            "bin_start": 0.02814,
            "bin_end": 0.03752,
            "count": 0
           },
           {
            "bin_start": 0.03752,
            "bin_end": 0.0469,
            "count": 0
           },
           {
            "bin_start": 0.0469,
            "bin_end": 0.05628,
            "count": 0
           },
           {
            "bin_start": 0.05628,
            "bin_end": 0.06566,
            "count": 0
           },
           {
            "bin_start": 0.06566,
            "bin_end": 0.07504,
            "count": 0
           },
           {
            "bin_start": 0.07504,
            "bin_end": 0.08442,
            "count": 0
           },
           {
            "bin_start": 0.08442,
            "bin_end": 0.0938,
            "count": 1
           }
          ]
         }
        },
        {
         "name": "liveness",
         "dtype": "float64",
         "stats": {
          "unique_count": 45,
          "nan_count": 0,
          "min": "0.0476",
          "max": "0.76",
          "histogram": [
           {
            "bin_start": 0.0476,
            "bin_end": 0.11884,
            "count": 28
           },
           {
            "bin_start": 0.11884,
            "bin_end": 0.19008,
            "count": 11
           },
           {
            "bin_start": 0.19008,
            "bin_end": 0.26132,
            "count": 4
           },
           {
            "bin_start": 0.26132,
            "bin_end": 0.33255999999999997,
            "count": 3
           },
           {
            "bin_start": 0.33255999999999997,
            "bin_end": 0.40379999999999994,
            "count": 3
           },
           {
            "bin_start": 0.40379999999999994,
            "bin_end": 0.47504,
            "count": 0
           },
           {
            "bin_start": 0.47504,
            "bin_end": 0.54628,
            "count": 0
           },
           {
            "bin_start": 0.54628,
            "bin_end": 0.61752,
            "count": 0
           },
           {
            "bin_start": 0.61752,
            "bin_end": 0.6887599999999999,
            "count": 0
           },
           {
            "bin_start": 0.6887599999999999,
            "bin_end": 0.76,
            "count": 1
           }
          ]
         }
        },
        {
         "name": "valence",
         "dtype": "float64",
         "stats": {
          "unique_count": 47,
          "nan_count": 0,
          "min": "0.138",
          "max": "0.963",
          "histogram": [
           {
            "bin_start": 0.138,
            "bin_end": 0.2205,
            "count": 4
           },
           {
            "bin_start": 0.2205,
            "bin_end": 0.303,
            "count": 2
           },
           {
            "bin_start": 0.303,
            "bin_end": 0.38549999999999995,
            "count": 3
           },
           {
            "bin_start": 0.38549999999999995,
            "bin_end": 0.46799999999999997,
            "count": 8
           },
           {
            "bin_start": 0.46799999999999997,
            "bin_end": 0.5505,
            "count": 6
           },
           {
            "bin_start": 0.5505,
            "bin_end": 0.633,
            "count": 10
           },
           {
            "bin_start": 0.633,
            "bin_end": 0.7154999999999999,
            "count": 5
           },
           {
            "bin_start": 0.7154999999999999,
            "bin_end": 0.7979999999999999,
            "count": 4
           },
           {
            "bin_start": 0.7979999999999999,
            "bin_end": 0.8805,
            "count": 2
           },
           {
            "bin_start": 0.8805,
            "bin_end": 0.963,
            "count": 6
           }
          ]
         }
        },
        {
         "name": "tempo",
         "dtype": "float64",
         "stats": {
          "unique_count": 50,
          "nan_count": 0,
          "min": "72.156",
          "max": "200.156",
          "histogram": [
           {
            "bin_start": 72.156,
            "bin_end": 84.956,
            "count": 5
           },
           {
            "bin_start": 84.956,
            "bin_end": 97.756,
            "count": 4
           },
           {
            "bin_start": 97.756,
            "bin_end": 110.55600000000001,
            "count": 10
           },
           {
            "bin_start": 110.55600000000001,
            "bin_end": 123.35600000000001,
            "count": 6
           },
           {
            "bin_start": 123.35600000000001,
            "bin_end": 136.156,
            "count": 5
           },
           {
            "bin_start": 136.156,
            "bin_end": 148.95600000000002,
            "count": 2
           },
           {
            "bin_start": 148.95600000000002,
            "bin_end": 161.75600000000003,
            "count": 3
           },
           {
            "bin_start": 161.75600000000003,
            "bin_end": 174.556,
            "count": 5
           },
           {
            "bin_start": 174.556,
            "bin_end": 187.356,
            "count": 9
           },
           {
            "bin_start": 187.356,
            "bin_end": 200.156,
            "count": 1
           }
          ]
         }
        },
        {
         "name": "type",
         "dtype": "object",
         "stats": {
          "unique_count": 1,
          "nan_count": 0,
          "categories": [
           {
            "name": "audio_features",
            "count": 50
           }
          ]
         }
        },
        {
         "name": "uri",
         "dtype": "object",
         "stats": {
          "unique_count": 50,
          "nan_count": 0,
          "categories": [
           {
            "name": "spotify:track:4gzsuuZypVbxs0Af1LSZyB",
            "count": 1
           },
           {
            "name": "spotify:track:2JPLbjOn0wPCngEot2STUS",
            "count": 1
           },
           {
            "name": "48 others",
            "count": 48
           }
          ]
         }
        },
        {
         "name": "track_href",
         "dtype": "object",
         "stats": {
          "unique_count": 50,
          "nan_count": 0,
          "categories": [
           {
            "name": "https://api.spotify.com/v1/tracks/4gzsuuZypVbxs0Af1LSZyB",
            "count": 1
           },
           {
            "name": "https://api.spotify.com/v1/tracks/2JPLbjOn0wPCngEot2STUS",
            "count": 1
           },
           {
            "name": "48 others",
            "count": 48
           }
          ]
         }
        },
        {
         "name": "analysis_url",
         "dtype": "object",
         "stats": {
          "unique_count": 50,
          "nan_count": 0,
          "categories": [
           {
            "name": "https://api.spotify.com/v1/audio-analysis/4gzsuuZypVbxs0Af1LSZyB",
            "count": 1
           },
           {
            "name": "https://api.spotify.com/v1/audio-analysis/2JPLbjOn0wPCngEot2STUS",
            "count": 1
           },
           {
            "name": "48 others",
            "count": 48
           }
          ]
         }
        },
        {
         "name": "duration_ms",
         "dtype": "float64",
         "stats": {
          "unique_count": 50,
          "nan_count": 0,
          "min": "2.177783333333333",
          "max": "5.359266666666667",
          "histogram": [
           {
            "bin_start": 2.177783333333333,
            "bin_end": 2.4959316666666664,
            "count": 4
           },
           {
            "bin_start": 2.4959316666666664,
            "bin_end": 2.8140799999999997,
            "count": 6
           },
           {
            "bin_start": 2.8140799999999997,
            "bin_end": 3.1322283333333334,
            "count": 4
           },
           {
            "bin_start": 3.1322283333333334,
            "bin_end": 3.4503766666666666,
            "count": 14
           },
           {
            "bin_start": 3.4503766666666666,
            "bin_end": 3.768525,
            "count": 9
           },
           {
            "bin_start": 3.768525,
            "bin_end": 4.086673333333334,
            "count": 7
           },
           {
            "bin_start": 4.086673333333334,
            "bin_end": 4.404821666666667,
            "count": 2
           },
           {
            "bin_start": 4.404821666666667,
            "bin_end": 4.72297,
            "count": 2
           },
           {
            "bin_start": 4.72297,
            "bin_end": 5.041118333333333,
            "count": 1
           },
           {
            "bin_start": 5.041118333333333,
            "bin_end": 5.359266666666667,
            "count": 1
           }
          ]
         }
        },
        {
         "name": "time_signature",
         "dtype": "int64",
         "stats": {
          "unique_count": 3,
          "nan_count": 0,
          "min": "1",
          "max": "4",
          "histogram": [
           {
            "bin_start": 1,
            "bin_end": 1.3,
            "count": 2
           },
           {
            "bin_start": 1.3,
            "bin_end": 1.6,
            "count": 0
           },
           {
            "bin_start": 1.6,
            "bin_end": 1.9,
            "count": 0
           },
           {
            "bin_start": 1.9,
            "bin_end": 2.2,
            "count": 0
           },
           {
            "bin_start": 2.2,
            "bin_end": 2.5,
            "count": 0
           },
           {
            "bin_start": 2.5,
            "bin_end": 2.8,
            "count": 0
           },
           {
            "bin_start": 2.8,
            "bin_end": 3.1,
            "count": 8
           },
           {
            "bin_start": 3.1,
            "bin_end": 3.4,
            "count": 0
           },
           {
            "bin_start": 3.4,
            "bin_end": 3.6999999999999997,
            "count": 0
           },
           {
            "bin_start": 3.6999999999999997,
            "bin_end": 4,
            "count": 40
           }
          ]
         }
        },
        {
         "name": "_deepnote_index_column",
         "dtype": "int64"
        }
       ],
       "rows_top": [
        {
         "id": "4gzsuuZypVbxs0Af1LSZyB",
         "album": "Lo Siento BB:/ (with Bad Bunny & Julieta Venegas)",
         "name": "Lo Siento BB:/ (with Bad Bunny & Julieta Venegas)",
         "artist": "Tainy, Bad Bunny, Julieta Venegas",
         "explicit": false,
         "popularity": 76,
         "danceability": 0.639,
         "energy": 0.703,
         "key": 4,
         "loudness": -6.33,
         "mode": 0,
         "speechiness": 0.0794,
         "acousticness": 0.0889,
         "instrumentalness": 0.00000178,
         "liveness": 0.0865,
         "valence": 0.138,
         "tempo": 169.888,
         "type": "audio_features",
         "uri": "spotify:track:4gzsuuZypVbxs0Af1LSZyB",
         "track_href": "https://api.spotify.com/v1/tracks/4gzsuuZypVbxs0Af1LSZyB",
         "analysis_url": "https://api.spotify.com/v1/audio-analysis/4gzsuuZypVbxs0Af1LSZyB",
         "duration_ms": 3.455016666666667,
         "time_signature": 4,
         "_deepnote_index_column": 0
        },
        {
         "id": "2JPLbjOn0wPCngEot2STUS",
         "album": "Yonaguni",
         "name": "Yonaguni",
         "artist": "Bad Bunny",
         "explicit": true,
         "popularity": 93,
         "danceability": 0.644,
         "energy": 0.648,
         "key": 1,
         "loudness": -4.601,
         "mode": 1,
         "speechiness": 0.118,
         "acousticness": 0.276,
         "instrumentalness": 0,
         "liveness": 0.135,
         "valence": 0.44,
         "tempo": 179.951,
         "type": "audio_features",
         "uri": "spotify:track:2JPLbjOn0wPCngEot2STUS",
         "track_href": "https://api.spotify.com/v1/tracks/2JPLbjOn0wPCngEot2STUS",
         "analysis_url": "https://api.spotify.com/v1/audio-analysis/2JPLbjOn0wPCngEot2STUS",
         "duration_ms": 3.4451666666666667,
         "time_signature": 4,
         "_deepnote_index_column": 1
        },
        {
         "id": "798ahLNEcoFER7Vywg1FMT",
         "album": "Vamos Bien",
         "name": "A La Antigüita",
         "artist": "Calibre 50",
         "explicit": false,
         "popularity": 84,
         "danceability": 0.651,
         "energy": 0.726,
         "key": 8,
         "loudness": -4.144,
         "mode": 1,
         "speechiness": 0.0539,
         "acousticness": 0.382,
         "instrumentalness": 0,
         "liveness": 0.0535,
         "valence": 0.963,
         "tempo": 179.99,
         "type": "audio_features",
         "uri": "spotify:track:798ahLNEcoFER7Vywg1FMT",
         "track_href": "https://api.spotify.com/v1/tracks/798ahLNEcoFER7Vywg1FMT",
         "analysis_url": "https://api.spotify.com/v1/audio-analysis/798ahLNEcoFER7Vywg1FMT",
         "duration_ms": 2.60445,
         "time_signature": 3,
         "_deepnote_index_column": 2
        },
        {
         "id": "2B4GHvToeLTOBB4QLzW3Ni",
         "album": "La 167",
         "name": "Pepas",
         "artist": "Farruko",
         "explicit": false,
         "popularity": 71,
         "danceability": 0.762,
         "energy": 0.766,
         "key": 7,
         "loudness": -3.955,
         "mode": 1,
         "speechiness": 0.0343,
         "acousticness": 0.00776,
         "instrumentalness": 0.0000698,
         "liveness": 0.128,
         "valence": 0.442,
         "tempo": 130.001,
         "type": "audio_features",
         "uri": "spotify:track:2B4GHvToeLTOBB4QLzW3Ni",
         "track_href": "https://api.spotify.com/v1/tracks/2B4GHvToeLTOBB4QLzW3Ni",
         "analysis_url": "https://api.spotify.com/v1/audio-analysis/2B4GHvToeLTOBB4QLzW3Ni",
         "duration_ms": 4.785333333333333,
         "time_signature": 4,
         "_deepnote_index_column": 3
        },
        {
         "id": "5RwV8BvLfX5injfqYodke9",
         "album": "VICE VERSA",
         "name": "Todo De Ti",
         "artist": "Rauw Alejandro",
         "explicit": true,
         "popularity": 84,
         "danceability": 0.78,
         "energy": 0.719,
         "key": 3,
         "loudness": -3.613,
         "mode": 0,
         "speechiness": 0.0506,
         "acousticness": 0.302,
         "instrumentalness": 0.000196,
         "liveness": 0.0931,
         "valence": 0.336,
         "tempo": 127.962,
         "type": "audio_features",
         "uri": "spotify:track:5RwV8BvLfX5injfqYodke9",
         "track_href": "https://api.spotify.com/v1/tracks/5RwV8BvLfX5injfqYodke9",
         "analysis_url": "https://api.spotify.com/v1/audio-analysis/5RwV8BvLfX5injfqYodke9",
         "duration_ms": 3.3267333333333333,
         "time_signature": 4,
         "_deepnote_index_column": 4
        },
        {
         "id": "2vmfvSoZBFAt9hhRoEByLi",
         "album": "Volví",
         "name": "Volví",
         "artist": "Aventura, Bad Bunny",
         "explicit": true,
         "popularity": 92,
         "danceability": 0.725,
         "energy": 0.86,
         "key": 1,
         "loudness": -3.726,
         "mode": 1,
         "speechiness": 0.182,
         "acousticness": 0.422,
         "instrumentalness": 0.000284,
         "liveness": 0.0674,
         "valence": 0.791,
         "tempo": 175.896,
         "type": "audio_features",
         "uri": "spotify:track:2vmfvSoZBFAt9hhRoEByLi",
         "track_href": "https://api.spotify.com/v1/tracks/2vmfvSoZBFAt9hhRoEByLi",
         "analysis_url": "https://api.spotify.com/v1/audio-analysis/2vmfvSoZBFAt9hhRoEByLi",
         "duration_ms": 3.8354166666666667,
         "time_signature": 4,
         "_deepnote_index_column": 5
        },
        {
         "id": "4H3t8C59tXjKf1R2iKtc5M",
         "album": "DEV, Vol. 2",
         "name": "Ya Acabo",
         "artist": "Marca MP",
         "explicit": false,
         "popularity": 82,
         "danceability": 0.673,
         "energy": 0.326,
         "key": 0,
         "loudness": -7.481,
         "mode": 1,
         "speechiness": 0.0348,
         "acousticness": 0.696,
         "instrumentalness": 0.00000373,
         "liveness": 0.103,
         "valence": 0.672,
         "tempo": 133.309,
         "type": "audio_features",
         "uri": "spotify:track:4H3t8C59tXjKf1R2iKtc5M",
         "track_href": "https://api.spotify.com/v1/tracks/4H3t8C59tXjKf1R2iKtc5M",
         "analysis_url": "https://api.spotify.com/v1/audio-analysis/4H3t8C59tXjKf1R2iKtc5M",
         "duration_ms": 3.1568,
         "time_signature": 4,
         "_deepnote_index_column": 6
        },
        {
         "id": "6HIIuuUIEzH1meVdGbMXyf",
         "album": "Ya Supérame (En Vivo)",
         "name": "Ya Supérame (En Vivo)",
         "artist": "Grupo Firme",
         "explicit": false,
         "popularity": 82,
         "danceability": 0.436,
         "energy": 0.4,
         "key": 0,
         "loudness": -6.521,
         "mode": 1,
         "speechiness": 0.11,
         "acousticness": 0.463,
         "instrumentalness": 0,
         "liveness": 0.76,
         "valence": 0.568,
         "tempo": 75.576,
         "type": "audio_features",
         "uri": "spotify:track:6HIIuuUIEzH1meVdGbMXyf",
         "track_href": "https://api.spotify.com/v1/tracks/6HIIuuUIEzH1meVdGbMXyf",
         "analysis_url": "https://api.spotify.com/v1/audio-analysis/6HIIuuUIEzH1meVdGbMXyf",
         "duration_ms": 3.1508333333333334,
         "time_signature": 3,
         "_deepnote_index_column": 7
        },
        {
         "id": "4HzqWEdAbzcVFDv0pvxV4w",
         "album": "Sobrio",
         "name": "Sobrio",
         "artist": "Maluma",
         "explicit": false,
         "popularity": 89,
         "danceability": 0.762,
         "energy": 0.77,
         "key": 5,
         "loudness": -2.758,
         "mode": 1,
         "speechiness": 0.223,
         "acousticness": 0.138,
         "instrumentalness": 0,
         "liveness": 0.15,
         "valence": 0.631,
         "tempo": 177.998,
         "type": "audio_features",
         "uri": "spotify:track:4HzqWEdAbzcVFDv0pvxV4w",
         "track_href": "https://api.spotify.com/v1/tracks/4HzqWEdAbzcVFDv0pvxV4w",
         "analysis_url": "https://api.spotify.com/v1/audio-analysis/4HzqWEdAbzcVFDv0pvxV4w",
         "duration_ms": 3.3530166666666665,
         "time_signature": 4,
         "_deepnote_index_column": 8
        },
        {
         "id": "64JzNzcoSZOh3RWeoghVfk",
         "album": "Como Lo Hice Yo",
         "name": "Como Lo Hice Yo",
         "artist": "Matisse, Carin Leon",
         "explicit": false,
         "popularity": 78,
         "danceability": 0.689,
         "energy": 0.663,
         "key": 2,
         "loudness": -4.538,
         "mode": 1,
         "speechiness": 0.0432,
         "acousticness": 0.378,
         "instrumentalness": 0.00000117,
         "liveness": 0.0994,
         "valence": 0.486,
         "tempo": 143.098,
         "type": "audio_features",
         "uri": "spotify:track:64JzNzcoSZOh3RWeoghVfk",
         "track_href": "https://api.spotify.com/v1/tracks/64JzNzcoSZOh3RWeoghVfk",
         "analysis_url": "https://api.spotify.com/v1/audio-analysis/64JzNzcoSZOh3RWeoghVfk",
         "duration_ms": 2.95105,
         "time_signature": 3,
         "_deepnote_index_column": 9
        },
        {
         "id": "6D2TCm4nf5nxAcdGJ7w3QP",
         "album": "JOSE",
         "name": "Qué Más Pues?",
         "artist": "J Balvin, Maria Becerra",
         "explicit": false,
         "popularity": 79,
         "danceability": 0.903,
         "energy": 0.817,
         "key": 8,
         "loudness": -3.972,
         "mode": 1,
         "speechiness": 0.095,
         "acousticness": 0.0272,
         "instrumentalness": 0.000311,
         "liveness": 0.242,
         "valence": 0.732,
         "tempo": 102.014,
         "type": "audio_features",
         "uri": "spotify:track:6D2TCm4nf5nxAcdGJ7w3QP",
         "track_href": "https://api.spotify.com/v1/tracks/6D2TCm4nf5nxAcdGJ7w3QP",
         "analysis_url": "https://api.spotify.com/v1/audio-analysis/6D2TCm4nf5nxAcdGJ7w3QP",
         "duration_ms": 3.6226666666666665,
         "time_signature": 4,
         "_deepnote_index_column": 10
        },
        {
         "id": "2MnLkFqY9Rpg9s3Zv6ZJdK",
         "album": "Botella Tras Botella",
         "name": "Botella Tras Botella",
         "artist": "Gera MX, Christian Nodal",
         "explicit": false,
         "popularity": 85,
         "danceability": 0.727,
         "energy": 0.546,
         "key": 0,
         "loudness": -4.572,
         "mode": 1,
         "speechiness": 0.0437,
         "acousticness": 0.656,
         "instrumentalness": 0,
         "liveness": 0.122,
         "valence": 0.69,
         "tempo": 106.891,
         "type": "audio_features",
         "uri": "spotify:track:2MnLkFqY9Rpg9s3Zv6ZJdK",
         "track_href": "https://api.spotify.com/v1/tracks/2MnLkFqY9Rpg9s3Zv6ZJdK",
         "analysis_url": "https://api.spotify.com/v1/audio-analysis/2MnLkFqY9Rpg9s3Zv6ZJdK",
         "duration_ms": 3.288883333333333,
         "time_signature": 4,
         "_deepnote_index_column": 11
        },
        {
         "id": "1xO7tp4J5Wj0NeKrzIpd1V",
         "album": "La Sinvergüenza",
         "name": "La Sinvergüenza",
         "artist": "Christian Nodal, Banda MS de Sergio Lizárraga",
         "explicit": false,
         "popularity": 78,
         "danceability": 0.704,
         "energy": 0.482,
         "key": 9,
         "loudness": -5.352,
         "mode": 1,
         "speechiness": 0.0349,
         "acousticness": 0.211,
         "instrumentalness": 0,
         "liveness": 0.3,
         "valence": 0.604,
         "tempo": 102.01,
         "type": "audio_features",
         "uri": "spotify:track:1xO7tp4J5Wj0NeKrzIpd1V",
         "track_href": "https://api.spotify.com/v1/tracks/1xO7tp4J5Wj0NeKrzIpd1V",
         "analysis_url": "https://api.spotify.com/v1/audio-analysis/1xO7tp4J5Wj0NeKrzIpd1V",
         "duration_ms": 3.3088166666666665,
         "time_signature": 4,
         "_deepnote_index_column": 12
        },
        {
         "id": "0eu4C55hL6x29mmeAjytzC",
         "album": "Ugly is Beautiful: Shorter, Thicker & Uglier (Deluxe)",
         "name": "Life Goes On",
         "artist": "Oliver Tree",
         "explicit": false,
         "popularity": 92,
         "danceability": 0.7,
         "energy": 0.49,
         "key": 0,
         "loudness": -5.187,
         "mode": 1,
         "speechiness": 0.076,
         "acousticness": 0.186,
         "instrumentalness": 0,
         "liveness": 0.117,
         "valence": 0.569,
         "tempo": 79.982,
         "type": "audio_features",
         "uri": "spotify:track:0eu4C55hL6x29mmeAjytzC",
         "track_href": "https://api.spotify.com/v1/tracks/0eu4C55hL6x29mmeAjytzC",
         "analysis_url": "https://api.spotify.com/v1/audio-analysis/0eu4C55hL6x29mmeAjytzC",
         "duration_ms": 2.6967166666666667,
         "time_signature": 4,
         "_deepnote_index_column": 13
        },
        {
         "id": "5PjdY0CKGZdEuoNab3yDmX",
         "album": "F*CK LOVE 3: OVER YOU",
         "name": "STAY (with Justin Bieber)",
         "artist": "The Kid LAROI, Justin Bieber",
         "explicit": true,
         "popularity": 93,
         "danceability": 0.591,
         "energy": 0.764,
         "key": 1,
         "loudness": -5.484,
         "mode": 1,
         "speechiness": 0.0483,
         "acousticness": 0.0383,
         "instrumentalness": 0,
         "liveness": 0.103,
         "valence": 0.478,
         "tempo": 169.928,
         "type": "audio_features",
         "uri": "spotify:track:5PjdY0CKGZdEuoNab3yDmX",
         "track_href": "https://api.spotify.com/v1/tracks/5PjdY0CKGZdEuoNab3yDmX",
         "analysis_url": "https://api.spotify.com/v1/audio-analysis/5PjdY0CKGZdEuoNab3yDmX",
         "duration_ms": 2.3634333333333335,
         "time_signature": 4,
         "_deepnote_index_column": 14
        },
        {
         "id": "05bfbizlM5AX6Mf1RRyMho",
         "album": "AM Remix",
         "name": "AM Remix",
         "artist": "Nio Garcia, J Balvin, Bad Bunny",
         "explicit": true,
         "popularity": 90,
         "danceability": 0.743,
         "energy": 0.655,
         "key": 6,
         "loudness": -5.015,
         "mode": 0,
         "speechiness": 0.159,
         "acousticness": 0.114,
         "instrumentalness": 0,
         "liveness": 0.0764,
         "valence": 0.785,
         "tempo": 172.031,
         "type": "audio_features",
         "uri": "spotify:track:05bfbizlM5AX6Mf1RRyMho",
         "track_href": "https://api.spotify.com/v1/tracks/05bfbizlM5AX6Mf1RRyMho",
         "analysis_url": "https://api.spotify.com/v1/audio-analysis/05bfbizlM5AX6Mf1RRyMho",
         "duration_ms": 4.355583333333334,
         "time_signature": 4,
         "_deepnote_index_column": 15
        },
        {
         "id": "3HgvO4B5LLmdPOT2d8cSZd",
         "album": "Clásicos",
         "name": "Mónaco",
         "artist": "LAGOS, Danny Ocean",
         "explicit": false,
         "popularity": 81,
         "danceability": 0.699,
         "energy": 0.654,
         "key": 11,
         "loudness": -6.264,
         "mode": 1,
         "speechiness": 0.0383,
         "acousticness": 0.054,
         "instrumentalness": 0.00000708,
         "liveness": 0.095,
         "valence": 0.319,
         "tempo": 100.037,
         "type": "audio_features",
         "uri": "spotify:track:3HgvO4B5LLmdPOT2d8cSZd",
         "track_href": "https://api.spotify.com/v1/tracks/3HgvO4B5LLmdPOT2d8cSZd",
         "analysis_url": "https://api.spotify.com/v1/audio-analysis/3HgvO4B5LLmdPOT2d8cSZd",
         "duration_ms": 3.205216666666667,
         "time_signature": 4,
         "_deepnote_index_column": 16
        },
        {
         "id": "4bF2y8rR7GUjrd5LNEvej3",
         "album": "París",
         "name": "París",
         "artist": "Ingratax",
         "explicit": false,
         "popularity": 90,
         "danceability": 0.57,
         "energy": 0.455,
         "key": 1,
         "loudness": -5.748,
         "mode": 0,
         "speechiness": 0.0996,
         "acousticness": 0.441,
         "instrumentalness": 0.000746,
         "liveness": 0.0654,
         "valence": 0.399,
         "tempo": 167.933,
         "type": "audio_features",
         "uri": "spotify:track:4bF2y8rR7GUjrd5LNEvej3",
         "track_href": "https://api.spotify.com/v1/tracks/4bF2y8rR7GUjrd5LNEvej3",
         "analysis_url": "https://api.spotify.com/v1/audio-analysis/4bF2y8rR7GUjrd5LNEvej3",
         "duration_ms": 2.523816666666667,
         "time_signature": 4,
         "_deepnote_index_column": 17
        },
        {
         "id": "4MzXwWMhyBbmu6hOcLVD49",
         "album": "EL ÚLTIMO TOUR DEL MUNDO",
         "name": "DÁKITI",
         "artist": "Bad Bunny, Jhay Cortez",
         "explicit": true,
         "popularity": 84,
         "danceability": 0.731,
         "energy": 0.573,
         "key": 4,
         "loudness": -10.059,
         "mode": 0,
         "speechiness": 0.0544,
         "acousticness": 0.401,
         "instrumentalness": 0.0000522,
         "liveness": 0.113,
         "valence": 0.145,
         "tempo": 109.928,
         "type": "audio_features",
         "uri": "spotify:track:4MzXwWMhyBbmu6hOcLVD49",
         "track_href": "https://api.spotify.com/v1/tracks/4MzXwWMhyBbmu6hOcLVD49",
         "analysis_url": "https://api.spotify.com/v1/audio-analysis/4MzXwWMhyBbmu6hOcLVD49",
         "duration_ms": 3.4181666666666666,
         "time_signature": 4,
         "_deepnote_index_column": 18
        },
        {
         "id": "0bI7K9Becu2dtXK1Q3cZNB",
         "album": "Don't Be Shy",
         "name": "Don't Be Shy",
         "artist": "Tiësto, KAROL G",
         "explicit": true,
         "popularity": 89,
         "danceability": 0.77,
         "energy": 0.787,
         "key": 11,
         "loudness": -3.748,
         "mode": 0,
         "speechiness": 0.0583,
         "acousticness": 0.198,
         "instrumentalness": 0,
         "liveness": 0.262,
         "valence": 0.513,
         "tempo": 119.986,
         "type": "audio_features",
         "uri": "spotify:track:0bI7K9Becu2dtXK1Q3cZNB",
         "track_href": "https://api.spotify.com/v1/tracks/0bI7K9Becu2dtXK1Q3cZNB",
         "analysis_url": "https://api.spotify.com/v1/audio-analysis/0bI7K9Becu2dtXK1Q3cZNB",
         "duration_ms": 2.341666666666667,
         "time_signature": 4,
         "_deepnote_index_column": 19
        },
        {
         "id": "2rCbl9naJYhaxjLsfx88uM",
         "album": "Pareja Del Año",
         "name": "Pareja Del Año",
         "artist": "Sebastian Yatra, Myke Towers",
         "explicit": false,
         "popularity": 88,
         "danceability": 0.715,
         "energy": 0.622,
         "key": 4,
         "loudness": -5.102,
         "mode": 0,
         "speechiness": 0.046,
         "acousticness": 0.163,
         "instrumentalness": 0,
         "liveness": 0.0948,
         "valence": 0.808,
         "tempo": 80.015,
         "type": "audio_features",
         "uri": "spotify:track:2rCbl9naJYhaxjLsfx88uM",
         "track_href": "https://api.spotify.com/v1/tracks/2rCbl9naJYhaxjLsfx88uM",
         "analysis_url": "https://api.spotify.com/v1/audio-analysis/2rCbl9naJYhaxjLsfx88uM",
         "duration_ms": 3.2508833333333333,
         "time_signature": 4,
         "_deepnote_index_column": 20
        }
       ],
       "rows_bottom": [
        {
         "id": "6G2xXQRSZlEzYsUEb3uvuR",
         "album": "Alma Vacía",
         "name": "Está Dañada",
         "artist": "Ivan Cornejo",
         "explicit": false,
         "popularity": 73,
         "danceability": 0.405,
         "energy": 0.565,
         "key": 1,
         "loudness": -9.266,
         "mode": 0,
         "speechiness": 0.0372,
         "acousticness": 0.38,
         "instrumentalness": 0.0195,
         "liveness": 0.107,
         "valence": 0.166,
         "tempo": 159.892,
         "type": "audio_features",
         "uri": "spotify:track:6G2xXQRSZlEzYsUEb3uvuR",
         "track_href": "https://api.spotify.com/v1/tracks/6G2xXQRSZlEzYsUEb3uvuR",
         "analysis_url": "https://api.spotify.com/v1/audio-analysis/6G2xXQRSZlEzYsUEb3uvuR",
         "duration_ms": 3.56915,
         "time_signature": 3,
         "_deepnote_index_column": 28
        },
        {
         "id": "0cOa970mzTWAxKtltpkpLc",
         "album": "Miénteme",
         "name": "Miénteme",
         "artist": "TINI, Maria Becerra",
         "explicit": false,
         "popularity": 88,
         "danceability": 0.85,
         "energy": 0.541,
         "key": 2,
         "loudness": -4.522,
         "mode": 1,
         "speechiness": 0.0674,
         "acousticness": 0.161,
         "instrumentalness": 0.00000501,
         "liveness": 0.286,
         "valence": 0.916,
         "tempo": 92.003,
         "type": "audio_features",
         "uri": "spotify:track:0cOa970mzTWAxKtltpkpLc",
         "track_href": "https://api.spotify.com/v1/tracks/0cOa970mzTWAxKtltpkpLc",
         "analysis_url": "https://api.spotify.com/v1/audio-analysis/0cOa970mzTWAxKtltpkpLc",
         "duration_ms": 2.754583333333333,
         "time_signature": 4,
         "_deepnote_index_column": 29
        },
        {
         "id": "64ImcY4fJhY243wr20SR3e",
         "album": "Cuidando El Territorio",
         "name": "Cuidando El Territorio",
         "artist": "Calibre 50, Santa Fe Klan, Beto Sierra",
         "explicit": false,
         "popularity": 79,
         "danceability": 0.716,
         "energy": 0.654,
         "key": 8,
         "loudness": -6.702,
         "mode": 0,
         "speechiness": 0.279,
         "acousticness": 0.249,
         "instrumentalness": 0,
         "liveness": 0.127,
         "valence": 0.958,
         "tempo": 180.11,
         "type": "audio_features",
         "uri": "spotify:track:64ImcY4fJhY243wr20SR3e",
         "track_href": "https://api.spotify.com/v1/tracks/64ImcY4fJhY243wr20SR3e",
         "analysis_url": "https://api.spotify.com/v1/audio-analysis/64ImcY4fJhY243wr20SR3e",
         "duration_ms": 3.1138833333333333,
         "time_signature": 4,
         "_deepnote_index_column": 30
        },
        {
         "id": "3pQYf90V5idOGrXzosm9rt",
         "album": "Cruisin' with Junior H",
         "name": "Se Amerita",
         "artist": "Junior H",
         "explicit": false,
         "popularity": 79,
         "danceability": 0.752,
         "energy": 0.719,
         "key": 6,
         "loudness": -4.399,
         "mode": 0,
         "speechiness": 0.0285,
         "acousticness": 0.264,
         "instrumentalness": 0.0000796,
         "liveness": 0.126,
         "valence": 0.544,
         "tempo": 107.582,
         "type": "audio_features",
         "uri": "spotify:track:3pQYf90V5idOGrXzosm9rt",
         "track_href": "https://api.spotify.com/v1/tracks/3pQYf90V5idOGrXzosm9rt",
         "analysis_url": "https://api.spotify.com/v1/audio-analysis/3pQYf90V5idOGrXzosm9rt",
         "duration_ms": 3.9309666666666665,
         "time_signature": 4,
         "_deepnote_index_column": 31
        },
        {
         "id": "3NqBxTOMCJ3zW9CIP51td4",
         "album": "Corta Venas",
         "name": "Jugaste y Sufrí",
         "artist": "Eslabon Armado, DannyLux",
         "explicit": false,
         "popularity": 85,
         "danceability": 0.39,
         "energy": 0.499,
         "key": 7,
         "loudness": -7.778,
         "mode": 1,
         "speechiness": 0.0381,
         "acousticness": 0.632,
         "instrumentalness": 0.000497,
         "liveness": 0.115,
         "valence": 0.34,
         "tempo": 200.156,
         "type": "audio_features",
         "uri": "spotify:track:3NqBxTOMCJ3zW9CIP51td4",
         "track_href": "https://api.spotify.com/v1/tracks/3NqBxTOMCJ3zW9CIP51td4",
         "analysis_url": "https://api.spotify.com/v1/audio-analysis/3NqBxTOMCJ3zW9CIP51td4",
         "duration_ms": 4.586566666666666,
         "time_signature": 1,
         "_deepnote_index_column": 32
        },
        {
         "id": "0giiXonRhODYy4J1iy4Lb3",
         "album": "VICE VERSA",
         "name": "Sexo Virtual",
         "artist": "Rauw Alejandro",
         "explicit": true,
         "popularity": 84,
         "danceability": 0.704,
         "energy": 0.739,
         "key": 8,
         "loudness": -3.286,
         "mode": 1,
         "speechiness": 0.112,
         "acousticness": 0.328,
         "instrumentalness": 0.0000193,
         "liveness": 0.0856,
         "valence": 0.425,
         "tempo": 179.879,
         "type": "audio_features",
         "uri": "spotify:track:0giiXonRhODYy4J1iy4Lb3",
         "track_href": "https://api.spotify.com/v1/tracks/0giiXonRhODYy4J1iy4Lb3",
         "analysis_url": "https://api.spotify.com/v1/audio-analysis/0giiXonRhODYy4J1iy4Lb3",
         "duration_ms": 3.4715333333333334,
         "time_signature": 4,
         "_deepnote_index_column": 33
        },
        {
         "id": "0G2zPzWqVjR68iNPmx2TBe",
         "album": "Volando (Remix)",
         "name": "Volando - Remix",
         "artist": "Mora, Bad Bunny, Sech",
         "explicit": true,
         "popularity": 90,
         "danceability": 0.659,
         "energy": 0.688,
         "key": 6,
         "loudness": -4.649,
         "mode": 1,
         "speechiness": 0.0673,
         "acousticness": 0.207,
         "instrumentalness": 0,
         "liveness": 0.113,
         "valence": 0.632,
         "tempo": 153.979,
         "type": "audio_features",
         "uri": "spotify:track:0G2zPzWqVjR68iNPmx2TBe",
         "track_href": "https://api.spotify.com/v1/tracks/0G2zPzWqVjR68iNPmx2TBe",
         "analysis_url": "https://api.spotify.com/v1/audio-analysis/0G2zPzWqVjR68iNPmx2TBe",
         "duration_ms": 4.5579,
         "time_signature": 4,
         "_deepnote_index_column": 34
        },
        {
         "id": "55mzJ0LftLnef8sxAjrMkU",
         "album": "Debo Entender",
         "name": "Debo Entender",
         "artist": "Santa Fe Klan, Neto Peña, Yoss Bones",
         "explicit": false,
         "popularity": 78,
         "danceability": 0.678,
         "energy": 0.457,
         "key": 0,
         "loudness": -6.854,
         "mode": 1,
         "speechiness": 0.177,
         "acousticness": 0.741,
         "instrumentalness": 0,
         "liveness": 0.113,
         "valence": 0.563,
         "tempo": 72.156,
         "type": "audio_features",
         "uri": "spotify:track:55mzJ0LftLnef8sxAjrMkU",
         "track_href": "https://api.spotify.com/v1/tracks/55mzJ0LftLnef8sxAjrMkU",
         "analysis_url": "https://api.spotify.com/v1/audio-analysis/55mzJ0LftLnef8sxAjrMkU",
         "duration_ms": 3.9736666666666665,
         "time_signature": 4,
         "_deepnote_index_column": 35
        },
        {
         "id": "7hU3IHwjX150XLoTVmjD0q",
         "album": "LALISA",
         "name": "MONEY",
         "artist": "LISA",
         "explicit": false,
         "popularity": 86,
         "danceability": 0.831,
         "energy": 0.554,
         "key": 1,
         "loudness": -9.998,
         "mode": 0,
         "speechiness": 0.218,
         "acousticness": 0.161,
         "instrumentalness": 0.0000612,
         "liveness": 0.152,
         "valence": 0.396,
         "tempo": 140.026,
         "type": "audio_features",
         "uri": "spotify:track:7hU3IHwjX150XLoTVmjD0q",
         "track_href": "https://api.spotify.com/v1/tracks/7hU3IHwjX150XLoTVmjD0q",
         "analysis_url": "https://api.spotify.com/v1/audio-analysis/7hU3IHwjX150XLoTVmjD0q",
         "duration_ms": 2.8038,
         "time_signature": 4,
         "_deepnote_index_column": 36
        },
        {
         "id": "704LUEih663hiE3CnyUrFW",
         "album": "SEJODIOTO",
         "name": "SEJODIOTO",
         "artist": "KAROL G",
         "explicit": true,
         "popularity": 82,
         "danceability": 0.822,
         "energy": 0.736,
         "key": 1,
         "loudness": -3.969,
         "mode": 1,
         "speechiness": 0.15,
         "acousticness": 0.157,
         "instrumentalness": 0.000781,
         "liveness": 0.0748,
         "valence": 0.679,
         "tempo": 175.93,
         "type": "audio_features",
         "uri": "spotify:track:704LUEih663hiE3CnyUrFW",
         "track_href": "https://api.spotify.com/v1/tracks/704LUEih663hiE3CnyUrFW",
         "analysis_url": "https://api.spotify.com/v1/audio-analysis/704LUEih663hiE3CnyUrFW",
         "duration_ms": 3.01845,
         "time_signature": 4,
         "_deepnote_index_column": 37
        },
        {
         "id": "4DdnffqoFr9wDRlCACNmGf",
         "album": "A Mis 20",
         "name": "Porte Exuberante",
         "artist": "Natanael Cano, Oscar Maydon",
         "explicit": false,
         "popularity": 79,
         "danceability": 0.685,
         "energy": 0.831,
         "key": 4,
         "loudness": -4.38,
         "mode": 0,
         "speechiness": 0.0858,
         "acousticness": 0.398,
         "instrumentalness": 0,
         "liveness": 0.177,
         "valence": 0.486,
         "tempo": 97.431,
         "type": "audio_features",
         "uri": "spotify:track:4DdnffqoFr9wDRlCACNmGf",
         "track_href": "https://api.spotify.com/v1/tracks/4DdnffqoFr9wDRlCACNmGf",
         "analysis_url": "https://api.spotify.com/v1/audio-analysis/4DdnffqoFr9wDRlCACNmGf",
         "duration_ms": 3.565733333333333,
         "time_signature": 3,
         "_deepnote_index_column": 38
        },
        {
         "id": "0akyEssGRVHstqCSWXusJL",
         "album": "mix pa llorar en tu cuarto",
         "name": "Fuentes de Ortiz",
         "artist": "Ed Maverick",
         "explicit": true,
         "popularity": 79,
         "danceability": 0.83,
         "energy": 0.159,
         "key": 1,
         "loudness": -14.461,
         "mode": 1,
         "speechiness": 0.0383,
         "acousticness": 0.946,
         "instrumentalness": 0.0000202,
         "liveness": 0.362,
         "valence": 0.189,
         "tempo": 104.95,
         "type": "audio_features",
         "uri": "spotify:track:0akyEssGRVHstqCSWXusJL",
         "track_href": "https://api.spotify.com/v1/tracks/0akyEssGRVHstqCSWXusJL",
         "analysis_url": "https://api.spotify.com/v1/audio-analysis/0akyEssGRVHstqCSWXusJL",
         "duration_ms": 3.4566666666666666,
         "time_signature": 4,
         "_deepnote_index_column": 39
        },
        {
         "id": "6w8yBI2vthyN9UnwO4UBWb",
         "album": "Entre Nosotros",
         "name": "Entre Nosotros",
         "artist": "Tiago PZK, LIT killah",
         "explicit": false,
         "popularity": 89,
         "danceability": 0.729,
         "energy": 0.513,
         "key": 5,
         "loudness": -6.345,
         "mode": 0,
         "speechiness": 0.0455,
         "acousticness": 0.494,
         "instrumentalness": 0.0000011,
         "liveness": 0.137,
         "valence": 0.789,
         "tempo": 170.064,
         "type": "audio_features",
         "uri": "spotify:track:6w8yBI2vthyN9UnwO4UBWb",
         "track_href": "https://api.spotify.com/v1/tracks/6w8yBI2vthyN9UnwO4UBWb",
         "analysis_url": "https://api.spotify.com/v1/audio-analysis/6w8yBI2vthyN9UnwO4UBWb",
         "duration_ms": 3.2058833333333334,
         "time_signature": 3,
         "_deepnote_index_column": 40
        },
        {
         "id": "3Wrjm47oTz2sjIgck11l5e",
         "album": "Chosen",
         "name": "Beggin'",
         "artist": "Måneskin",
         "explicit": false,
         "popularity": 96,
         "danceability": 0.714,
         "energy": 0.8,
         "key": 11,
         "loudness": -4.808,
         "mode": 0,
         "speechiness": 0.0504,
         "acousticness": 0.127,
         "instrumentalness": 0,
         "liveness": 0.359,
         "valence": 0.589,
         "tempo": 134.002,
         "type": "audio_features",
         "uri": "spotify:track:3Wrjm47oTz2sjIgck11l5e",
         "track_href": "https://api.spotify.com/v1/tracks/3Wrjm47oTz2sjIgck11l5e",
         "analysis_url": "https://api.spotify.com/v1/audio-analysis/3Wrjm47oTz2sjIgck11l5e",
         "duration_ms": 3.526,
         "time_signature": 4,
         "_deepnote_index_column": 41
        },
        {
         "id": "5Z9KJZvQzH6PFmb8SNkxuk",
         "album": "MONTERO",
         "name": "INDUSTRY BABY (feat. Jack Harlow)",
         "artist": "Lil Nas X, Jack Harlow",
         "explicit": true,
         "popularity": 88,
         "danceability": 0.741,
         "energy": 0.691,
         "key": 10,
         "loudness": -7.395,
         "mode": 0,
         "speechiness": 0.0672,
         "acousticness": 0.0221,
         "instrumentalness": 0,
         "liveness": 0.0476,
         "valence": 0.892,
         "tempo": 150.087,
         "type": "audio_features",
         "uri": "spotify:track:5Z9KJZvQzH6PFmb8SNkxuk",
         "track_href": "https://api.spotify.com/v1/tracks/5Z9KJZvQzH6PFmb8SNkxuk",
         "analysis_url": "https://api.spotify.com/v1/audio-analysis/5Z9KJZvQzH6PFmb8SNkxuk",
         "duration_ms": 3.5392166666666665,
         "time_signature": 4,
         "_deepnote_index_column": 42
        },
        {
         "id": "1s59X35jDULAyOGmBuTAnd",
         "album": "Yo Ya No Vuelvo Contigo (En Vivo)",
         "name": "Yo Ya No Vuelvo Contigo - En Vivo",
         "artist": "Lenin Ramírez, Grupo Firme",
         "explicit": true,
         "popularity": 78,
         "danceability": 0.643,
         "energy": 0.35,
         "key": 4,
         "loudness": -5.924,
         "mode": 0,
         "speechiness": 0.0783,
         "acousticness": 0.784,
         "instrumentalness": 0,
         "liveness": 0.102,
         "valence": 0.541,
         "tempo": 118.199,
         "type": "audio_features",
         "uri": "spotify:track:1s59X35jDULAyOGmBuTAnd",
         "track_href": "https://api.spotify.com/v1/tracks/1s59X35jDULAyOGmBuTAnd",
         "analysis_url": "https://api.spotify.com/v1/audio-analysis/1s59X35jDULAyOGmBuTAnd",
         "duration_ms": 4.007616666666666,
         "time_signature": 1,
         "_deepnote_index_column": 43
        },
        {
         "id": "1yoMvmasuxZfqHEipJhRbp",
         "album": "PAPI JUANCHO",
         "name": "Hawái",
         "artist": "Maluma",
         "explicit": false,
         "popularity": 79,
         "danceability": 0.783,
         "energy": 0.727,
         "key": 6,
         "loudness": -3.454,
         "mode": 0,
         "speechiness": 0.389,
         "acousticness": 0.185,
         "instrumentalness": 0.0000246,
         "liveness": 0.0626,
         "valence": 0.558,
         "tempo": 180.067,
         "type": "audio_features",
         "uri": "spotify:track:1yoMvmasuxZfqHEipJhRbp",
         "track_href": "https://api.spotify.com/v1/tracks/1yoMvmasuxZfqHEipJhRbp",
         "analysis_url": "https://api.spotify.com/v1/audio-analysis/1yoMvmasuxZfqHEipJhRbp",
         "duration_ms": 3.3185333333333333,
         "time_signature": 4,
         "_deepnote_index_column": 44
        },
        {
         "id": "1ahCrpeTt94LL7y1aXw0Y8",
         "album": "Linda",
         "name": "Linda",
         "artist": "Tokischa, ROSALÍA",
         "explicit": true,
         "popularity": 82,
         "danceability": 0.891,
         "energy": 0.751,
         "key": 2,
         "loudness": -3.15,
         "mode": 1,
         "speechiness": 0.124,
         "acousticness": 0.0685,
         "instrumentalness": 0.000598,
         "liveness": 0.19,
         "valence": 0.711,
         "tempo": 115.046,
         "type": "audio_features",
         "uri": "spotify:track:1ahCrpeTt94LL7y1aXw0Y8",
         "track_href": "https://api.spotify.com/v1/tracks/1ahCrpeTt94LL7y1aXw0Y8",
         "analysis_url": "https://api.spotify.com/v1/audio-analysis/1ahCrpeTt94LL7y1aXw0Y8",
         "duration_ms": 2.400316666666667,
         "time_signature": 4,
         "_deepnote_index_column": 45
        },
        {
         "id": "3elpkpwYlmUbuvmVps08lJ",
         "album": "Te Ire A Buscar",
         "name": "Te Ire A Buscar",
         "artist": "Santa Fe Klan, Nanpa Básico",
         "explicit": false,
         "popularity": 77,
         "danceability": 0.684,
         "energy": 0.58,
         "key": 4,
         "loudness": -7.682,
         "mode": 0,
         "speechiness": 0.133,
         "acousticness": 0.672,
         "instrumentalness": 0,
         "liveness": 0.135,
         "valence": 0.233,
         "tempo": 89.954,
         "type": "audio_features",
         "uri": "spotify:track:3elpkpwYlmUbuvmVps08lJ",
         "track_href": "https://api.spotify.com/v1/tracks/3elpkpwYlmUbuvmVps08lJ",
         "analysis_url": "https://api.spotify.com/v1/audio-analysis/3elpkpwYlmUbuvmVps08lJ",
         "duration_ms": 3.6340833333333333,
         "time_signature": 4,
         "_deepnote_index_column": 46
        },
        {
         "id": "0fea68AdmYNygeTGI4RC18",
         "album": "OASIS",
         "name": "LA CANCIÓN",
         "artist": "J Balvin, Bad Bunny",
         "explicit": false,
         "popularity": 83,
         "danceability": 0.754,
         "energy": 0.646,
         "key": 7,
         "loudness": -5.795,
         "mode": 1,
         "speechiness": 0.317,
         "acousticness": 0.152,
         "instrumentalness": 0.0000185,
         "liveness": 0.108,
         "valence": 0.429,
         "tempo": 176.089,
         "type": "audio_features",
         "uri": "spotify:track:0fea68AdmYNygeTGI4RC18",
         "track_href": "https://api.spotify.com/v1/tracks/0fea68AdmYNygeTGI4RC18",
         "analysis_url": "https://api.spotify.com/v1/audio-analysis/0fea68AdmYNygeTGI4RC18",
         "duration_ms": 4.042883333333333,
         "time_signature": 4,
         "_deepnote_index_column": 47
        },
        {
         "id": "0ldT3gl7aGNzrJyd4b1CA4",
         "album": "En Tu Perra Vida",
         "name": "En Tu Perra Vida",
         "artist": "Grupo Firme, Lenin Ramirez",
         "explicit": false,
         "popularity": 78,
         "danceability": 0.546,
         "energy": 0.438,
         "key": 5,
         "loudness": -4.748,
         "mode": 1,
         "speechiness": 0.0669,
         "acousticness": 0.353,
         "instrumentalness": 0,
         "liveness": 0.261,
         "valence": 0.568,
         "tempo": 112.136,
         "type": "audio_features",
         "uri": "spotify:track:0ldT3gl7aGNzrJyd4b1CA4",
         "track_href": "https://api.spotify.com/v1/tracks/0ldT3gl7aGNzrJyd4b1CA4",
         "analysis_url": "https://api.spotify.com/v1/audio-analysis/0ldT3gl7aGNzrJyd4b1CA4",
         "duration_ms": 3.97795,
         "time_signature": 3,
         "_deepnote_index_column": 48
        },
        {
         "id": "3p6eieHX6oEOzJStPtEsLu",
         "album": "Simplemente Gracias",
         "name": "Si Te Pudiera Mentir",
         "artist": "Calibre 50",
         "explicit": false,
         "popularity": 75,
         "danceability": 0.764,
         "energy": 0.585,
         "key": 2,
         "loudness": -7.796,
         "mode": 1,
         "speechiness": 0.0305,
         "acousticness": 0.348,
         "instrumentalness": 0.00294,
         "liveness": 0.369,
         "valence": 0.89,
         "tempo": 90.013,
         "type": "audio_features",
         "uri": "spotify:track:3p6eieHX6oEOzJStPtEsLu",
         "track_href": "https://api.spotify.com/v1/tracks/3p6eieHX6oEOzJStPtEsLu",
         "analysis_url": "https://api.spotify.com/v1/audio-analysis/3p6eieHX6oEOzJStPtEsLu",
         "duration_ms": 4.260666666666666,
         "time_signature": 4,
         "_deepnote_index_column": 49
        }
       ]
      },
      "text/plain": "                        id                                              album  \\\n0   4gzsuuZypVbxs0Af1LSZyB  Lo Siento BB:/ (with Bad Bunny & Julieta Venegas)   \n1   2JPLbjOn0wPCngEot2STUS                                           Yonaguni   \n2   798ahLNEcoFER7Vywg1FMT                                         Vamos Bien   \n3   2B4GHvToeLTOBB4QLzW3Ni                                             La 167   \n4   5RwV8BvLfX5injfqYodke9                                         VICE VERSA   \n5   2vmfvSoZBFAt9hhRoEByLi                                              Volví   \n6   4H3t8C59tXjKf1R2iKtc5M                                        DEV, Vol. 2   \n7   6HIIuuUIEzH1meVdGbMXyf                              Ya Supérame (En Vivo)   \n8   4HzqWEdAbzcVFDv0pvxV4w                                             Sobrio   \n9   64JzNzcoSZOh3RWeoghVfk                                    Como Lo Hice Yo   \n10  6D2TCm4nf5nxAcdGJ7w3QP                                               JOSE   \n11  2MnLkFqY9Rpg9s3Zv6ZJdK                               Botella Tras Botella   \n12  1xO7tp4J5Wj0NeKrzIpd1V                                    La Sinvergüenza   \n13  0eu4C55hL6x29mmeAjytzC  Ugly is Beautiful: Shorter, Thicker & Uglier (...   \n14  5PjdY0CKGZdEuoNab3yDmX                              F*CK LOVE 3: OVER YOU   \n15  05bfbizlM5AX6Mf1RRyMho                                           AM Remix   \n16  3HgvO4B5LLmdPOT2d8cSZd                                           Clásicos   \n17  4bF2y8rR7GUjrd5LNEvej3                                             París   \n18  4MzXwWMhyBbmu6hOcLVD49                           EL ÚLTIMO TOUR DEL MUNDO   \n19  0bI7K9Becu2dtXK1Q3cZNB                                       Don't Be Shy   \n20  2rCbl9naJYhaxjLsfx88uM                                     Pareja Del Año   \n21  4OwhwvKESFtuu06dTgct7i                                    Tiroteo (Remix)   \n22  3FeVmId7tL5YN8B7R3imoM                                        My Universe   \n23  7E9GeFGfjXw9LAI4ay6rsw                                          El Tóxico   \n24  1q0PYXTbDsirp2l74ng6pn                                               JOSE   \n25  6zSpb8dQRaw0M1dK8PBwQz                            Cold Heart (PNAU Remix)   \n26  4gvrJnKCKIPiacNsWVQwEU       love nwantiti (feat. Dj Yo! & AX'EL) [Remix]   \n27  3PwRuzdphgedcWVUOVYJ7I                                         VICE VERSA   \n28  6G2xXQRSZlEzYsUEb3uvuR                                         Alma Vacía   \n29  0cOa970mzTWAxKtltpkpLc                                           Miénteme   \n30  64ImcY4fJhY243wr20SR3e                             Cuidando El Territorio   \n31  3pQYf90V5idOGrXzosm9rt                             Cruisin' with Junior H   \n32  3NqBxTOMCJ3zW9CIP51td4                                        Corta Venas   \n33  0giiXonRhODYy4J1iy4Lb3                                         VICE VERSA   \n34  0G2zPzWqVjR68iNPmx2TBe                                    Volando (Remix)   \n35  55mzJ0LftLnef8sxAjrMkU                                      Debo Entender   \n36  7hU3IHwjX150XLoTVmjD0q                                             LALISA   \n37  704LUEih663hiE3CnyUrFW                                          SEJODIOTO   \n38  4DdnffqoFr9wDRlCACNmGf                                           A Mis 20   \n39  0akyEssGRVHstqCSWXusJL                         mix pa llorar en tu cuarto   \n40  6w8yBI2vthyN9UnwO4UBWb                                     Entre Nosotros   \n41  3Wrjm47oTz2sjIgck11l5e                                             Chosen   \n42  5Z9KJZvQzH6PFmb8SNkxuk                                            MONTERO   \n43  1s59X35jDULAyOGmBuTAnd                  Yo Ya No Vuelvo Contigo (En Vivo)   \n44  1yoMvmasuxZfqHEipJhRbp                                       PAPI JUANCHO   \n45  1ahCrpeTt94LL7y1aXw0Y8                                              Linda   \n46  3elpkpwYlmUbuvmVps08lJ                                    Te Ire A Buscar   \n47  0fea68AdmYNygeTGI4RC18                                              OASIS   \n48  0ldT3gl7aGNzrJyd4b1CA4                                   En Tu Perra Vida   \n49  3p6eieHX6oEOzJStPtEsLu                                Simplemente Gracias   \n\n                                                 name  \\\n0   Lo Siento BB:/ (with Bad Bunny & Julieta Venegas)   \n1                                            Yonaguni   \n2                                      A La Antigüita   \n3                                               Pepas   \n4                                          Todo De Ti   \n5                                               Volví   \n6                                            Ya Acabo   \n7                               Ya Supérame (En Vivo)   \n8                                              Sobrio   \n9                                     Como Lo Hice Yo   \n10                                      Qué Más Pues?   \n11                               Botella Tras Botella   \n12                                    La Sinvergüenza   \n13                                       Life Goes On   \n14                          STAY (with Justin Bieber)   \n15                                           AM Remix   \n16                                             Mónaco   \n17                                             París   \n18                                             DÁKITI   \n19                                       Don't Be Shy   \n20                                     Pareja Del Año   \n21                                    Tiroteo - Remix   \n22                                        My Universe   \n23                                          El Tóxico   \n24                                        In Da Getto   \n25                            Cold Heart - PNAU Remix   \n26       love nwantiti (feat. Dj Yo! & AX'EL) - Remix   \n27                                             Cúrame   \n28                                        Está Dañada   \n29                                           Miénteme   \n30                             Cuidando El Territorio   \n31                                         Se Amerita   \n32                                    Jugaste y Sufrí   \n33                                       Sexo Virtual   \n34                                    Volando - Remix   \n35                                      Debo Entender   \n36                                              MONEY   \n37                                          SEJODIOTO   \n38                                   Porte Exuberante   \n39                                   Fuentes de Ortiz   \n40                                     Entre Nosotros   \n41                                            Beggin'   \n42                  INDUSTRY BABY (feat. Jack Harlow)   \n43                  Yo Ya No Vuelvo Contigo - En Vivo   \n44                                              Hawái   \n45                                              Linda   \n46                                    Te Ire A Buscar   \n47                                         LA CANCIÓN   \n48                                   En Tu Perra Vida   \n49                               Si Te Pudiera Mentir   \n\n                                           artist  explicit  popularity  \\\n0               Tainy, Bad Bunny, Julieta Venegas     False          76   \n1                                       Bad Bunny      True          93   \n2                                      Calibre 50     False          84   \n3                                         Farruko     False          71   \n4                                  Rauw Alejandro      True          84   \n5                             Aventura, Bad Bunny      True          92   \n6                                        Marca MP     False          82   \n7                                     Grupo Firme     False          82   \n8                                          Maluma     False          89   \n9                             Matisse, Carin Leon     False          78   \n10                        J Balvin, Maria Becerra     False          79   \n11                       Gera MX, Christian Nodal     False          85   \n12  Christian Nodal, Banda MS de Sergio Lizárraga     False          78   \n13                                    Oliver Tree     False          92   \n14                   The Kid LAROI, Justin Bieber      True          93   \n15                Nio Garcia, J Balvin, Bad Bunny      True          90   \n16                             LAGOS, Danny Ocean     False          81   \n17                                       Ingratax     False          90   \n18                         Bad Bunny, Jhay Cortez      True          84   \n19                                Tiësto, KAROL G      True          89   \n20                   Sebastian Yatra, Myke Towers     False          88   \n21         Marc Seguí, Rauw Alejandro, Pol Granch     False          88   \n22                                  Coldplay, BTS     False          93   \n23                        Grupo Firme, Carin Leon     False          80   \n24                             J Balvin, Skrillex     False          79   \n25                     Elton John, Dua Lipa, PNAU     False          92   \n26                             CKay, DJ Yo, AX'EL     False          89   \n27                                 Rauw Alejandro      True          90   \n28                                   Ivan Cornejo     False          73   \n29                            TINI, Maria Becerra     False          88   \n30         Calibre 50, Santa Fe Klan, Beto Sierra     False          79   \n31                                       Junior H     False          79   \n32                       Eslabon Armado, DannyLux     False          85   \n33                                 Rauw Alejandro      True          84   \n34                          Mora, Bad Bunny, Sech      True          90   \n35           Santa Fe Klan, Neto Peña, Yoss Bones     False          78   \n36                                           LISA     False          86   \n37                                        KAROL G      True          82   \n38                    Natanael Cano, Oscar Maydon     False          79   \n39                                    Ed Maverick      True          79   \n40                          Tiago PZK, LIT killah     False          89   \n41                                       Måneskin     False          96   \n42                         Lil Nas X, Jack Harlow      True          88   \n43                     Lenin Ramírez, Grupo Firme      True          78   \n44                                         Maluma     False          79   \n45                              Tokischa, ROSALÍA      True          82   \n46                    Santa Fe Klan, Nanpa Básico     False          77   \n47                            J Balvin, Bad Bunny     False          83   \n48                     Grupo Firme, Lenin Ramirez     False          78   \n49                                     Calibre 50     False          75   \n\n    danceability  energy  key  loudness  ...  instrumentalness  liveness  \\\n0          0.639   0.703    4    -6.330  ...          0.000002    0.0865   \n1          0.644   0.648    1    -4.601  ...          0.000000    0.1350   \n2          0.651   0.726    8    -4.144  ...          0.000000    0.0535   \n3          0.762   0.766    7    -3.955  ...          0.000070    0.1280   \n4          0.780   0.719    3    -3.613  ...          0.000196    0.0931   \n5          0.725   0.860    1    -3.726  ...          0.000284    0.0674   \n6          0.673   0.326    0    -7.481  ...          0.000004    0.1030   \n7          0.436   0.400    0    -6.521  ...          0.000000    0.7600   \n8          0.762   0.770    5    -2.758  ...          0.000000    0.1500   \n9          0.689   0.663    2    -4.538  ...          0.000001    0.0994   \n10         0.903   0.817    8    -3.972  ...          0.000311    0.2420   \n11         0.727   0.546    0    -4.572  ...          0.000000    0.1220   \n12         0.704   0.482    9    -5.352  ...          0.000000    0.3000   \n13         0.700   0.490    0    -5.187  ...          0.000000    0.1170   \n14         0.591   0.764    1    -5.484  ...          0.000000    0.1030   \n15         0.743   0.655    6    -5.015  ...          0.000000    0.0764   \n16         0.699   0.654   11    -6.264  ...          0.000007    0.0950   \n17         0.570   0.455    1    -5.748  ...          0.000746    0.0654   \n18         0.731   0.573    4   -10.059  ...          0.000052    0.1130   \n19         0.770   0.787   11    -3.748  ...          0.000000    0.2620   \n20         0.715   0.622    4    -5.102  ...          0.000000    0.0948   \n21         0.750   0.522    9    -7.018  ...          0.000000    0.0743   \n22         0.588   0.701    9    -6.390  ...          0.000000    0.2000   \n23         0.626   0.503   10    -5.087  ...          0.000000    0.2340   \n24         0.924   0.723    8    -3.142  ...          0.000026    0.1130   \n25         0.796   0.798    1    -6.312  ...          0.000042    0.0952   \n26         0.579   0.596    8    -4.823  ...          0.093800    0.0549   \n27         0.765   0.625    9    -3.599  ...          0.001110    0.1120   \n28         0.405   0.565    1    -9.266  ...          0.019500    0.1070   \n29         0.850   0.541    2    -4.522  ...          0.000005    0.2860   \n30         0.716   0.654    8    -6.702  ...          0.000000    0.1270   \n31         0.752   0.719    6    -4.399  ...          0.000080    0.1260   \n32         0.390   0.499    7    -7.778  ...          0.000497    0.1150   \n33         0.704   0.739    8    -3.286  ...          0.000019    0.0856   \n34         0.659   0.688    6    -4.649  ...          0.000000    0.1130   \n35         0.678   0.457    0    -6.854  ...          0.000000    0.1130   \n36         0.831   0.554    1    -9.998  ...          0.000061    0.1520   \n37         0.822   0.736    1    -3.969  ...          0.000781    0.0748   \n38         0.685   0.831    4    -4.380  ...          0.000000    0.1770   \n39         0.830   0.159    1   -14.461  ...          0.000020    0.3620   \n40         0.729   0.513    5    -6.345  ...          0.000001    0.1370   \n41         0.714   0.800   11    -4.808  ...          0.000000    0.3590   \n42         0.741   0.691   10    -7.395  ...          0.000000    0.0476   \n43         0.643   0.350    4    -5.924  ...          0.000000    0.1020   \n44         0.783   0.727    6    -3.454  ...          0.000025    0.0626   \n45         0.891   0.751    2    -3.150  ...          0.000598    0.1900   \n46         0.684   0.580    4    -7.682  ...          0.000000    0.1350   \n47         0.754   0.646    7    -5.795  ...          0.000018    0.1080   \n48         0.546   0.438    5    -4.748  ...          0.000000    0.2610   \n49         0.764   0.585    2    -7.796  ...          0.002940    0.3690   \n\n    valence    tempo            type                                   uri  \\\n0     0.138  169.888  audio_features  spotify:track:4gzsuuZypVbxs0Af1LSZyB   \n1     0.440  179.951  audio_features  spotify:track:2JPLbjOn0wPCngEot2STUS   \n2     0.963  179.990  audio_features  spotify:track:798ahLNEcoFER7Vywg1FMT   \n3     0.442  130.001  audio_features  spotify:track:2B4GHvToeLTOBB4QLzW3Ni   \n4     0.336  127.962  audio_features  spotify:track:5RwV8BvLfX5injfqYodke9   \n5     0.791  175.896  audio_features  spotify:track:2vmfvSoZBFAt9hhRoEByLi   \n6     0.672  133.309  audio_features  spotify:track:4H3t8C59tXjKf1R2iKtc5M   \n7     0.568   75.576  audio_features  spotify:track:6HIIuuUIEzH1meVdGbMXyf   \n8     0.631  177.998  audio_features  spotify:track:4HzqWEdAbzcVFDv0pvxV4w   \n9     0.486  143.098  audio_features  spotify:track:64JzNzcoSZOh3RWeoghVfk   \n10    0.732  102.014  audio_features  spotify:track:6D2TCm4nf5nxAcdGJ7w3QP   \n11    0.690  106.891  audio_features  spotify:track:2MnLkFqY9Rpg9s3Zv6ZJdK   \n12    0.604  102.010  audio_features  spotify:track:1xO7tp4J5Wj0NeKrzIpd1V   \n13    0.569   79.982  audio_features  spotify:track:0eu4C55hL6x29mmeAjytzC   \n14    0.478  169.928  audio_features  spotify:track:5PjdY0CKGZdEuoNab3yDmX   \n15    0.785  172.031  audio_features  spotify:track:05bfbizlM5AX6Mf1RRyMho   \n16    0.319  100.037  audio_features  spotify:track:3HgvO4B5LLmdPOT2d8cSZd   \n17    0.399  167.933  audio_features  spotify:track:4bF2y8rR7GUjrd5LNEvej3   \n18    0.145  109.928  audio_features  spotify:track:4MzXwWMhyBbmu6hOcLVD49   \n19    0.513  119.986  audio_features  spotify:track:0bI7K9Becu2dtXK1Q3cZNB   \n20    0.808   80.015  audio_features  spotify:track:2rCbl9naJYhaxjLsfx88uM   \n21    0.601  110.427  audio_features  spotify:track:4OwhwvKESFtuu06dTgct7i   \n22    0.443  104.988  audio_features  spotify:track:3FeVmId7tL5YN8B7R3imoM   \n23    0.821   72.985  audio_features  spotify:track:7E9GeFGfjXw9LAI4ay6rsw   \n24    0.643  126.998  audio_features  spotify:track:1q0PYXTbDsirp2l74ng6pn   \n25    0.942  116.032  audio_features  spotify:track:6zSpb8dQRaw0M1dK8PBwQz   \n26    0.443  119.900  audio_features  spotify:track:4gvrJnKCKIPiacNsWVQwEU   \n27    0.262  102.101  audio_features  spotify:track:3PwRuzdphgedcWVUOVYJ7I   \n28    0.166  159.892  audio_features  spotify:track:6G2xXQRSZlEzYsUEb3uvuR   \n29    0.916   92.003  audio_features  spotify:track:0cOa970mzTWAxKtltpkpLc   \n30    0.958  180.110  audio_features  spotify:track:64ImcY4fJhY243wr20SR3e   \n31    0.544  107.582  audio_features  spotify:track:3pQYf90V5idOGrXzosm9rt   \n32    0.340  200.156  audio_features  spotify:track:3NqBxTOMCJ3zW9CIP51td4   \n33    0.425  179.879  audio_features  spotify:track:0giiXonRhODYy4J1iy4Lb3   \n34    0.632  153.979  audio_features  spotify:track:0G2zPzWqVjR68iNPmx2TBe   \n35    0.563   72.156  audio_features  spotify:track:55mzJ0LftLnef8sxAjrMkU   \n36    0.396  140.026  audio_features  spotify:track:7hU3IHwjX150XLoTVmjD0q   \n37    0.679  175.930  audio_features  spotify:track:704LUEih663hiE3CnyUrFW   \n38    0.486   97.431  audio_features  spotify:track:4DdnffqoFr9wDRlCACNmGf   \n39    0.189  104.950  audio_features  spotify:track:0akyEssGRVHstqCSWXusJL   \n40    0.789  170.064  audio_features  spotify:track:6w8yBI2vthyN9UnwO4UBWb   \n41    0.589  134.002  audio_features  spotify:track:3Wrjm47oTz2sjIgck11l5e   \n42    0.892  150.087  audio_features  spotify:track:5Z9KJZvQzH6PFmb8SNkxuk   \n43    0.541  118.199  audio_features  spotify:track:1s59X35jDULAyOGmBuTAnd   \n44    0.558  180.067  audio_features  spotify:track:1yoMvmasuxZfqHEipJhRbp   \n45    0.711  115.046  audio_features  spotify:track:1ahCrpeTt94LL7y1aXw0Y8   \n46    0.233   89.954  audio_features  spotify:track:3elpkpwYlmUbuvmVps08lJ   \n47    0.429  176.089  audio_features  spotify:track:0fea68AdmYNygeTGI4RC18   \n48    0.568  112.136  audio_features  spotify:track:0ldT3gl7aGNzrJyd4b1CA4   \n49    0.890   90.013  audio_features  spotify:track:3p6eieHX6oEOzJStPtEsLu   \n\n                                           track_href  \\\n0   https://api.spotify.com/v1/tracks/4gzsuuZypVbx...   \n1   https://api.spotify.com/v1/tracks/2JPLbjOn0wPC...   \n2   https://api.spotify.com/v1/tracks/798ahLNEcoFE...   \n3   https://api.spotify.com/v1/tracks/2B4GHvToeLTO...   \n4   https://api.spotify.com/v1/tracks/5RwV8BvLfX5i...   \n5   https://api.spotify.com/v1/tracks/2vmfvSoZBFAt...   \n6   https://api.spotify.com/v1/tracks/4H3t8C59tXjK...   \n7   https://api.spotify.com/v1/tracks/6HIIuuUIEzH1...   \n8   https://api.spotify.com/v1/tracks/4HzqWEdAbzcV...   \n9   https://api.spotify.com/v1/tracks/64JzNzcoSZOh...   \n10  https://api.spotify.com/v1/tracks/6D2TCm4nf5nx...   \n11  https://api.spotify.com/v1/tracks/2MnLkFqY9Rpg...   \n12  https://api.spotify.com/v1/tracks/1xO7tp4J5Wj0...   \n13  https://api.spotify.com/v1/tracks/0eu4C55hL6x2...   \n14  https://api.spotify.com/v1/tracks/5PjdY0CKGZdE...   \n15  https://api.spotify.com/v1/tracks/05bfbizlM5AX...   \n16  https://api.spotify.com/v1/tracks/3HgvO4B5LLmd...   \n17  https://api.spotify.com/v1/tracks/4bF2y8rR7GUj...   \n18  https://api.spotify.com/v1/tracks/4MzXwWMhyBbm...   \n19  https://api.spotify.com/v1/tracks/0bI7K9Becu2d...   \n20  https://api.spotify.com/v1/tracks/2rCbl9naJYha...   \n21  https://api.spotify.com/v1/tracks/4OwhwvKESFtu...   \n22  https://api.spotify.com/v1/tracks/3FeVmId7tL5Y...   \n23  https://api.spotify.com/v1/tracks/7E9GeFGfjXw9...   \n24  https://api.spotify.com/v1/tracks/1q0PYXTbDsir...   \n25  https://api.spotify.com/v1/tracks/6zSpb8dQRaw0...   \n26  https://api.spotify.com/v1/tracks/4gvrJnKCKIPi...   \n27  https://api.spotify.com/v1/tracks/3PwRuzdphged...   \n28  https://api.spotify.com/v1/tracks/6G2xXQRSZlEz...   \n29  https://api.spotify.com/v1/tracks/0cOa970mzTWA...   \n30  https://api.spotify.com/v1/tracks/64ImcY4fJhY2...   \n31  https://api.spotify.com/v1/tracks/3pQYf90V5idO...   \n32  https://api.spotify.com/v1/tracks/3NqBxTOMCJ3z...   \n33  https://api.spotify.com/v1/tracks/0giiXonRhODY...   \n34  https://api.spotify.com/v1/tracks/0G2zPzWqVjR6...   \n35  https://api.spotify.com/v1/tracks/55mzJ0LftLne...   \n36  https://api.spotify.com/v1/tracks/7hU3IHwjX150...   \n37  https://api.spotify.com/v1/tracks/704LUEih663h...   \n38  https://api.spotify.com/v1/tracks/4DdnffqoFr9w...   \n39  https://api.spotify.com/v1/tracks/0akyEssGRVHs...   \n40  https://api.spotify.com/v1/tracks/6w8yBI2vthyN...   \n41  https://api.spotify.com/v1/tracks/3Wrjm47oTz2s...   \n42  https://api.spotify.com/v1/tracks/5Z9KJZvQzH6P...   \n43  https://api.spotify.com/v1/tracks/1s59X35jDULA...   \n44  https://api.spotify.com/v1/tracks/1yoMvmasuxZf...   \n45  https://api.spotify.com/v1/tracks/1ahCrpeTt94L...   \n46  https://api.spotify.com/v1/tracks/3elpkpwYlmUb...   \n47  https://api.spotify.com/v1/tracks/0fea68AdmYNy...   \n48  https://api.spotify.com/v1/tracks/0ldT3gl7aGNz...   \n49  https://api.spotify.com/v1/tracks/3p6eieHX6oEO...   \n\n                                         analysis_url duration_ms  \\\n0   https://api.spotify.com/v1/audio-analysis/4gzs...    3.455017   \n1   https://api.spotify.com/v1/audio-analysis/2JPL...    3.445167   \n2   https://api.spotify.com/v1/audio-analysis/798a...    2.604450   \n3   https://api.spotify.com/v1/audio-analysis/2B4G...    4.785333   \n4   https://api.spotify.com/v1/audio-analysis/5RwV...    3.326733   \n5   https://api.spotify.com/v1/audio-analysis/2vmf...    3.835417   \n6   https://api.spotify.com/v1/audio-analysis/4H3t...    3.156800   \n7   https://api.spotify.com/v1/audio-analysis/6HII...    3.150833   \n8   https://api.spotify.com/v1/audio-analysis/4Hzq...    3.353017   \n9   https://api.spotify.com/v1/audio-analysis/64Jz...    2.951050   \n10  https://api.spotify.com/v1/audio-analysis/6D2T...    3.622667   \n11  https://api.spotify.com/v1/audio-analysis/2MnL...    3.288883   \n12  https://api.spotify.com/v1/audio-analysis/1xO7...    3.308817   \n13  https://api.spotify.com/v1/audio-analysis/0eu4...    2.696717   \n14  https://api.spotify.com/v1/audio-analysis/5Pjd...    2.363433   \n15  https://api.spotify.com/v1/audio-analysis/05bf...    4.355583   \n16  https://api.spotify.com/v1/audio-analysis/3Hgv...    3.205217   \n17  https://api.spotify.com/v1/audio-analysis/4bF2...    2.523817   \n18  https://api.spotify.com/v1/audio-analysis/4MzX...    3.418167   \n19  https://api.spotify.com/v1/audio-analysis/0bI7...    2.341667   \n20  https://api.spotify.com/v1/audio-analysis/2rCb...    3.250883   \n21  https://api.spotify.com/v1/audio-analysis/4Owh...    5.359267   \n22  https://api.spotify.com/v1/audio-analysis/3FeV...    3.800000   \n23  https://api.spotify.com/v1/audio-analysis/7E9G...    2.995767   \n24  https://api.spotify.com/v1/audio-analysis/1q0P...    2.177783   \n25  https://api.spotify.com/v1/audio-analysis/6zSp...    3.378917   \n26  https://api.spotify.com/v1/audio-analysis/4gvr...    3.139483   \n27  https://api.spotify.com/v1/audio-analysis/3PwR...    2.745100   \n28  https://api.spotify.com/v1/audio-analysis/6G2x...    3.569150   \n29  https://api.spotify.com/v1/audio-analysis/0cOa...    2.754583   \n30  https://api.spotify.com/v1/audio-analysis/64Im...    3.113883   \n31  https://api.spotify.com/v1/audio-analysis/3pQY...    3.930967   \n32  https://api.spotify.com/v1/audio-analysis/3NqB...    4.586567   \n33  https://api.spotify.com/v1/audio-analysis/0gii...    3.471533   \n34  https://api.spotify.com/v1/audio-analysis/0G2z...    4.557900   \n35  https://api.spotify.com/v1/audio-analysis/55mz...    3.973667   \n36  https://api.spotify.com/v1/audio-analysis/7hU3...    2.803800   \n37  https://api.spotify.com/v1/audio-analysis/704L...    3.018450   \n38  https://api.spotify.com/v1/audio-analysis/4Ddn...    3.565733   \n39  https://api.spotify.com/v1/audio-analysis/0aky...    3.456667   \n40  https://api.spotify.com/v1/audio-analysis/6w8y...    3.205883   \n41  https://api.spotify.com/v1/audio-analysis/3Wrj...    3.526000   \n42  https://api.spotify.com/v1/audio-analysis/5Z9K...    3.539217   \n43  https://api.spotify.com/v1/audio-analysis/1s59...    4.007617   \n44  https://api.spotify.com/v1/audio-analysis/1yoM...    3.318533   \n45  https://api.spotify.com/v1/audio-analysis/1ahC...    2.400317   \n46  https://api.spotify.com/v1/audio-analysis/3elp...    3.634083   \n47  https://api.spotify.com/v1/audio-analysis/0fea...    4.042883   \n48  https://api.spotify.com/v1/audio-analysis/0ldT...    3.977950   \n49  https://api.spotify.com/v1/audio-analysis/3p6e...    4.260667   \n\n   time_signature  \n0               4  \n1               4  \n2               3  \n3               4  \n4               4  \n5               4  \n6               4  \n7               3  \n8               4  \n9               3  \n10              4  \n11              4  \n12              4  \n13              4  \n14              4  \n15              4  \n16              4  \n17              4  \n18              4  \n19              4  \n20              4  \n21              4  \n22              4  \n23              4  \n24              4  \n25              4  \n26              3  \n27              4  \n28              3  \n29              4  \n30              4  \n31              4  \n32              1  \n33              4  \n34              4  \n35              4  \n36              4  \n37              4  \n38              3  \n39              4  \n40              3  \n41              4  \n42              4  \n43              1  \n44              4  \n45              4  \n46              4  \n47              4  \n48              3  \n49              4  \n\n[50 rows x 23 columns]",
      "text/html": "<div>\n<style scoped>\n    .dataframe tbody tr th:only-of-type {\n        vertical-align: middle;\n    }\n\n    .dataframe tbody tr th {\n        vertical-align: top;\n    }\n\n    .dataframe thead th {\n        text-align: right;\n    }\n</style>\n<table border=\"1\" class=\"dataframe\">\n  <thead>\n    <tr style=\"text-align: right;\">\n      <th></th>\n      <th>id</th>\n      <th>album</th>\n      <th>name</th>\n      <th>artist</th>\n      <th>explicit</th>\n      <th>popularity</th>\n      <th>danceability</th>\n      <th>energy</th>\n      <th>key</th>\n      <th>loudness</th>\n      <th>...</th>\n      <th>instrumentalness</th>\n      <th>liveness</th>\n      <th>valence</th>\n      <th>tempo</th>\n      <th>type</th>\n      <th>uri</th>\n      <th>track_href</th>\n      <th>analysis_url</th>\n      <th>duration_ms</th>\n      <th>time_signature</th>\n    </tr>\n  </thead>\n  <tbody>\n    <tr>\n      <th>0</th>\n      <td>4gzsuuZypVbxs0Af1LSZyB</td>\n      <td>Lo Siento BB:/ (with Bad Bunny &amp; Julieta Venegas)</td>\n      <td>Lo Siento BB:/ (with Bad Bunny &amp; Julieta Venegas)</td>\n      <td>Tainy, Bad Bunny, Julieta Venegas</td>\n      <td>False</td>\n      <td>76</td>\n      <td>0.639</td>\n      <td>0.703</td>\n      <td>4</td>\n      <td>-6.330</td>\n      <td>...</td>\n      <td>0.000002</td>\n      <td>0.0865</td>\n      <td>0.138</td>\n      <td>169.888</td>\n      <td>audio_features</td>\n      <td>spotify:track:4gzsuuZypVbxs0Af1LSZyB</td>\n      <td>https://api.spotify.com/v1/tracks/4gzsuuZypVbx...</td>\n      <td>https://api.spotify.com/v1/audio-analysis/4gzs...</td>\n      <td>3.455017</td>\n      <td>4</td>\n    </tr>\n    <tr>\n      <th>1</th>\n      <td>2JPLbjOn0wPCngEot2STUS</td>\n      <td>Yonaguni</td>\n      <td>Yonaguni</td>\n      <td>Bad Bunny</td>\n      <td>True</td>\n      <td>93</td>\n      <td>0.644</td>\n      <td>0.648</td>\n      <td>1</td>\n      <td>-4.601</td>\n      <td>...</td>\n      <td>0.000000</td>\n      <td>0.1350</td>\n      <td>0.440</td>\n      <td>179.951</td>\n      <td>audio_features</td>\n      <td>spotify:track:2JPLbjOn0wPCngEot2STUS</td>\n      <td>https://api.spotify.com/v1/tracks/2JPLbjOn0wPC...</td>\n      <td>https://api.spotify.com/v1/audio-analysis/2JPL...</td>\n      <td>3.445167</td>\n      <td>4</td>\n    </tr>\n    <tr>\n      <th>2</th>\n      <td>798ahLNEcoFER7Vywg1FMT</td>\n      <td>Vamos Bien</td>\n      <td>A La Antigüita</td>\n      <td>Calibre 50</td>\n      <td>False</td>\n      <td>84</td>\n      <td>0.651</td>\n      <td>0.726</td>\n      <td>8</td>\n      <td>-4.144</td>\n      <td>...</td>\n      <td>0.000000</td>\n      <td>0.0535</td>\n      <td>0.963</td>\n      <td>179.990</td>\n      <td>audio_features</td>\n      <td>spotify:track:798ahLNEcoFER7Vywg1FMT</td>\n      <td>https://api.spotify.com/v1/tracks/798ahLNEcoFE...</td>\n      <td>https://api.spotify.com/v1/audio-analysis/798a...</td>\n      <td>2.604450</td>\n      <td>3</td>\n    </tr>\n    <tr>\n      <th>3</th>\n      <td>2B4GHvToeLTOBB4QLzW3Ni</td>\n      <td>La 167</td>\n      <td>Pepas</td>\n      <td>Farruko</td>\n      <td>False</td>\n      <td>71</td>\n      <td>0.762</td>\n      <td>0.766</td>\n      <td>7</td>\n      <td>-3.955</td>\n      <td>...</td>\n      <td>0.000070</td>\n      <td>0.1280</td>\n      <td>0.442</td>\n      <td>130.001</td>\n      <td>audio_features</td>\n      <td>spotify:track:2B4GHvToeLTOBB4QLzW3Ni</td>\n      <td>https://api.spotify.com/v1/tracks/2B4GHvToeLTO...</td>\n      <td>https://api.spotify.com/v1/audio-analysis/2B4G...</td>\n      <td>4.785333</td>\n      <td>4</td>\n    </tr>\n    <tr>\n      <th>4</th>\n      <td>5RwV8BvLfX5injfqYodke9</td>\n      <td>VICE VERSA</td>\n      <td>Todo De Ti</td>\n      <td>Rauw Alejandro</td>\n      <td>True</td>\n      <td>84</td>\n      <td>0.780</td>\n      <td>0.719</td>\n      <td>3</td>\n      <td>-3.613</td>\n      <td>...</td>\n      <td>0.000196</td>\n      <td>0.0931</td>\n      <td>0.336</td>\n      <td>127.962</td>\n      <td>audio_features</td>\n      <td>spotify:track:5RwV8BvLfX5injfqYodke9</td>\n      <td>https://api.spotify.com/v1/tracks/5RwV8BvLfX5i...</td>\n      <td>https://api.spotify.com/v1/audio-analysis/5RwV...</td>\n      <td>3.326733</td>\n      <td>4</td>\n    </tr>\n    <tr>\n      <th>5</th>\n      <td>2vmfvSoZBFAt9hhRoEByLi</td>\n      <td>Volví</td>\n      <td>Volví</td>\n      <td>Aventura, Bad Bunny</td>\n      <td>True</td>\n      <td>92</td>\n      <td>0.725</td>\n      <td>0.860</td>\n      <td>1</td>\n      <td>-3.726</td>\n      <td>...</td>\n      <td>0.000284</td>\n      <td>0.0674</td>\n      <td>0.791</td>\n      <td>175.896</td>\n      <td>audio_features</td>\n      <td>spotify:track:2vmfvSoZBFAt9hhRoEByLi</td>\n      <td>https://api.spotify.com/v1/tracks/2vmfvSoZBFAt...</td>\n      <td>https://api.spotify.com/v1/audio-analysis/2vmf...</td>\n      <td>3.835417</td>\n      <td>4</td>\n    </tr>\n    <tr>\n      <th>6</th>\n      <td>4H3t8C59tXjKf1R2iKtc5M</td>\n      <td>DEV, Vol. 2</td>\n      <td>Ya Acabo</td>\n      <td>Marca MP</td>\n      <td>False</td>\n      <td>82</td>\n      <td>0.673</td>\n      <td>0.326</td>\n      <td>0</td>\n      <td>-7.481</td>\n      <td>...</td>\n      <td>0.000004</td>\n      <td>0.1030</td>\n      <td>0.672</td>\n      <td>133.309</td>\n      <td>audio_features</td>\n      <td>spotify:track:4H3t8C59tXjKf1R2iKtc5M</td>\n      <td>https://api.spotify.com/v1/tracks/4H3t8C59tXjK...</td>\n      <td>https://api.spotify.com/v1/audio-analysis/4H3t...</td>\n      <td>3.156800</td>\n      <td>4</td>\n    </tr>\n    <tr>\n      <th>7</th>\n      <td>6HIIuuUIEzH1meVdGbMXyf</td>\n      <td>Ya Supérame (En Vivo)</td>\n      <td>Ya Supérame (En Vivo)</td>\n      <td>Grupo Firme</td>\n      <td>False</td>\n      <td>82</td>\n      <td>0.436</td>\n      <td>0.400</td>\n      <td>0</td>\n      <td>-6.521</td>\n      <td>...</td>\n      <td>0.000000</td>\n      <td>0.7600</td>\n      <td>0.568</td>\n      <td>75.576</td>\n      <td>audio_features</td>\n      <td>spotify:track:6HIIuuUIEzH1meVdGbMXyf</td>\n      <td>https://api.spotify.com/v1/tracks/6HIIuuUIEzH1...</td>\n      <td>https://api.spotify.com/v1/audio-analysis/6HII...</td>\n      <td>3.150833</td>\n      <td>3</td>\n    </tr>\n    <tr>\n      <th>8</th>\n      <td>4HzqWEdAbzcVFDv0pvxV4w</td>\n      <td>Sobrio</td>\n      <td>Sobrio</td>\n      <td>Maluma</td>\n      <td>False</td>\n      <td>89</td>\n      <td>0.762</td>\n      <td>0.770</td>\n      <td>5</td>\n      <td>-2.758</td>\n      <td>...</td>\n      <td>0.000000</td>\n      <td>0.1500</td>\n      <td>0.631</td>\n      <td>177.998</td>\n      <td>audio_features</td>\n      <td>spotify:track:4HzqWEdAbzcVFDv0pvxV4w</td>\n      <td>https://api.spotify.com/v1/tracks/4HzqWEdAbzcV...</td>\n      <td>https://api.spotify.com/v1/audio-analysis/4Hzq...</td>\n      <td>3.353017</td>\n      <td>4</td>\n    </tr>\n    <tr>\n      <th>9</th>\n      <td>64JzNzcoSZOh3RWeoghVfk</td>\n      <td>Como Lo Hice Yo</td>\n      <td>Como Lo Hice Yo</td>\n      <td>Matisse, Carin Leon</td>\n      <td>False</td>\n      <td>78</td>\n      <td>0.689</td>\n      <td>0.663</td>\n      <td>2</td>\n      <td>-4.538</td>\n      <td>...</td>\n      <td>0.000001</td>\n      <td>0.0994</td>\n      <td>0.486</td>\n      <td>143.098</td>\n      <td>audio_features</td>\n      <td>spotify:track:64JzNzcoSZOh3RWeoghVfk</td>\n      <td>https://api.spotify.com/v1/tracks/64JzNzcoSZOh...</td>\n      <td>https://api.spotify.com/v1/audio-analysis/64Jz...</td>\n      <td>2.951050</td>\n      <td>3</td>\n    </tr>\n    <tr>\n      <th>10</th>\n      <td>6D2TCm4nf5nxAcdGJ7w3QP</td>\n      <td>JOSE</td>\n      <td>Qué Más Pues?</td>\n      <td>J Balvin, Maria Becerra</td>\n      <td>False</td>\n      <td>79</td>\n      <td>0.903</td>\n      <td>0.817</td>\n      <td>8</td>\n      <td>-3.972</td>\n      <td>...</td>\n      <td>0.000311</td>\n      <td>0.2420</td>\n      <td>0.732</td>\n      <td>102.014</td>\n      <td>audio_features</td>\n      <td>spotify:track:6D2TCm4nf5nxAcdGJ7w3QP</td>\n      <td>https://api.spotify.com/v1/tracks/6D2TCm4nf5nx...</td>\n      <td>https://api.spotify.com/v1/audio-analysis/6D2T...</td>\n      <td>3.622667</td>\n      <td>4</td>\n    </tr>\n    <tr>\n      <th>11</th>\n      <td>2MnLkFqY9Rpg9s3Zv6ZJdK</td>\n      <td>Botella Tras Botella</td>\n      <td>Botella Tras Botella</td>\n      <td>Gera MX, Christian Nodal</td>\n      <td>False</td>\n      <td>85</td>\n      <td>0.727</td>\n      <td>0.546</td>\n      <td>0</td>\n      <td>-4.572</td>\n      <td>...</td>\n      <td>0.000000</td>\n      <td>0.1220</td>\n      <td>0.690</td>\n      <td>106.891</td>\n      <td>audio_features</td>\n      <td>spotify:track:2MnLkFqY9Rpg9s3Zv6ZJdK</td>\n      <td>https://api.spotify.com/v1/tracks/2MnLkFqY9Rpg...</td>\n      <td>https://api.spotify.com/v1/audio-analysis/2MnL...</td>\n      <td>3.288883</td>\n      <td>4</td>\n    </tr>\n    <tr>\n      <th>12</th>\n      <td>1xO7tp4J5Wj0NeKrzIpd1V</td>\n      <td>La Sinvergüenza</td>\n      <td>La Sinvergüenza</td>\n      <td>Christian Nodal, Banda MS de Sergio Lizárraga</td>\n      <td>False</td>\n      <td>78</td>\n      <td>0.704</td>\n      <td>0.482</td>\n      <td>9</td>\n      <td>-5.352</td>\n      <td>...</td>\n      <td>0.000000</td>\n      <td>0.3000</td>\n      <td>0.604</td>\n      <td>102.010</td>\n      <td>audio_features</td>\n      <td>spotify:track:1xO7tp4J5Wj0NeKrzIpd1V</td>\n      <td>https://api.spotify.com/v1/tracks/1xO7tp4J5Wj0...</td>\n      <td>https://api.spotify.com/v1/audio-analysis/1xO7...</td>\n      <td>3.308817</td>\n      <td>4</td>\n    </tr>\n    <tr>\n      <th>13</th>\n      <td>0eu4C55hL6x29mmeAjytzC</td>\n      <td>Ugly is Beautiful: Shorter, Thicker &amp; Uglier (...</td>\n      <td>Life Goes On</td>\n      <td>Oliver Tree</td>\n      <td>False</td>\n      <td>92</td>\n      <td>0.700</td>\n      <td>0.490</td>\n      <td>0</td>\n      <td>-5.187</td>\n      <td>...</td>\n      <td>0.000000</td>\n      <td>0.1170</td>\n      <td>0.569</td>\n      <td>79.982</td>\n      <td>audio_features</td>\n      <td>spotify:track:0eu4C55hL6x29mmeAjytzC</td>\n      <td>https://api.spotify.com/v1/tracks/0eu4C55hL6x2...</td>\n      <td>https://api.spotify.com/v1/audio-analysis/0eu4...</td>\n      <td>2.696717</td>\n      <td>4</td>\n    </tr>\n    <tr>\n      <th>14</th>\n      <td>5PjdY0CKGZdEuoNab3yDmX</td>\n      <td>F*CK LOVE 3: OVER YOU</td>\n      <td>STAY (with Justin Bieber)</td>\n      <td>The Kid LAROI, Justin Bieber</td>\n      <td>True</td>\n      <td>93</td>\n      <td>0.591</td>\n      <td>0.764</td>\n      <td>1</td>\n      <td>-5.484</td>\n      <td>...</td>\n      <td>0.000000</td>\n      <td>0.1030</td>\n      <td>0.478</td>\n      <td>169.928</td>\n      <td>audio_features</td>\n      <td>spotify:track:5PjdY0CKGZdEuoNab3yDmX</td>\n      <td>https://api.spotify.com/v1/tracks/5PjdY0CKGZdE...</td>\n      <td>https://api.spotify.com/v1/audio-analysis/5Pjd...</td>\n      <td>2.363433</td>\n      <td>4</td>\n    </tr>\n    <tr>\n      <th>15</th>\n      <td>05bfbizlM5AX6Mf1RRyMho</td>\n      <td>AM Remix</td>\n      <td>AM Remix</td>\n      <td>Nio Garcia, J Balvin, Bad Bunny</td>\n      <td>True</td>\n      <td>90</td>\n      <td>0.743</td>\n      <td>0.655</td>\n      <td>6</td>\n      <td>-5.015</td>\n      <td>...</td>\n      <td>0.000000</td>\n      <td>0.0764</td>\n      <td>0.785</td>\n      <td>172.031</td>\n      <td>audio_features</td>\n      <td>spotify:track:05bfbizlM5AX6Mf1RRyMho</td>\n      <td>https://api.spotify.com/v1/tracks/05bfbizlM5AX...</td>\n      <td>https://api.spotify.com/v1/audio-analysis/05bf...</td>\n      <td>4.355583</td>\n      <td>4</td>\n    </tr>\n    <tr>\n      <th>16</th>\n      <td>3HgvO4B5LLmdPOT2d8cSZd</td>\n      <td>Clásicos</td>\n      <td>Mónaco</td>\n      <td>LAGOS, Danny Ocean</td>\n      <td>False</td>\n      <td>81</td>\n      <td>0.699</td>\n      <td>0.654</td>\n      <td>11</td>\n      <td>-6.264</td>\n      <td>...</td>\n      <td>0.000007</td>\n      <td>0.0950</td>\n      <td>0.319</td>\n      <td>100.037</td>\n      <td>audio_features</td>\n      <td>spotify:track:3HgvO4B5LLmdPOT2d8cSZd</td>\n      <td>https://api.spotify.com/v1/tracks/3HgvO4B5LLmd...</td>\n      <td>https://api.spotify.com/v1/audio-analysis/3Hgv...</td>\n      <td>3.205217</td>\n      <td>4</td>\n    </tr>\n    <tr>\n      <th>17</th>\n      <td>4bF2y8rR7GUjrd5LNEvej3</td>\n      <td>París</td>\n      <td>París</td>\n      <td>Ingratax</td>\n      <td>False</td>\n      <td>90</td>\n      <td>0.570</td>\n      <td>0.455</td>\n      <td>1</td>\n      <td>-5.748</td>\n      <td>...</td>\n      <td>0.000746</td>\n      <td>0.0654</td>\n      <td>0.399</td>\n      <td>167.933</td>\n      <td>audio_features</td>\n      <td>spotify:track:4bF2y8rR7GUjrd5LNEvej3</td>\n      <td>https://api.spotify.com/v1/tracks/4bF2y8rR7GUj...</td>\n      <td>https://api.spotify.com/v1/audio-analysis/4bF2...</td>\n      <td>2.523817</td>\n      <td>4</td>\n    </tr>\n    <tr>\n      <th>18</th>\n      <td>4MzXwWMhyBbmu6hOcLVD49</td>\n      <td>EL ÚLTIMO TOUR DEL MUNDO</td>\n      <td>DÁKITI</td>\n      <td>Bad Bunny, Jhay Cortez</td>\n      <td>True</td>\n      <td>84</td>\n      <td>0.731</td>\n      <td>0.573</td>\n      <td>4</td>\n      <td>-10.059</td>\n      <td>...</td>\n      <td>0.000052</td>\n      <td>0.1130</td>\n      <td>0.145</td>\n      <td>109.928</td>\n      <td>audio_features</td>\n      <td>spotify:track:4MzXwWMhyBbmu6hOcLVD49</td>\n      <td>https://api.spotify.com/v1/tracks/4MzXwWMhyBbm...</td>\n      <td>https://api.spotify.com/v1/audio-analysis/4MzX...</td>\n      <td>3.418167</td>\n      <td>4</td>\n    </tr>\n    <tr>\n      <th>19</th>\n      <td>0bI7K9Becu2dtXK1Q3cZNB</td>\n      <td>Don't Be Shy</td>\n      <td>Don't Be Shy</td>\n      <td>Tiësto, KAROL G</td>\n      <td>True</td>\n      <td>89</td>\n      <td>0.770</td>\n      <td>0.787</td>\n      <td>11</td>\n      <td>-3.748</td>\n      <td>...</td>\n      <td>0.000000</td>\n      <td>0.2620</td>\n      <td>0.513</td>\n      <td>119.986</td>\n      <td>audio_features</td>\n      <td>spotify:track:0bI7K9Becu2dtXK1Q3cZNB</td>\n      <td>https://api.spotify.com/v1/tracks/0bI7K9Becu2d...</td>\n      <td>https://api.spotify.com/v1/audio-analysis/0bI7...</td>\n      <td>2.341667</td>\n      <td>4</td>\n    </tr>\n    <tr>\n      <th>20</th>\n      <td>2rCbl9naJYhaxjLsfx88uM</td>\n      <td>Pareja Del Año</td>\n      <td>Pareja Del Año</td>\n      <td>Sebastian Yatra, Myke Towers</td>\n      <td>False</td>\n      <td>88</td>\n      <td>0.715</td>\n      <td>0.622</td>\n      <td>4</td>\n      <td>-5.102</td>\n      <td>...</td>\n      <td>0.000000</td>\n      <td>0.0948</td>\n      <td>0.808</td>\n      <td>80.015</td>\n      <td>audio_features</td>\n      <td>spotify:track:2rCbl9naJYhaxjLsfx88uM</td>\n      <td>https://api.spotify.com/v1/tracks/2rCbl9naJYha...</td>\n      <td>https://api.spotify.com/v1/audio-analysis/2rCb...</td>\n      <td>3.250883</td>\n      <td>4</td>\n    </tr>\n    <tr>\n      <th>21</th>\n      <td>4OwhwvKESFtuu06dTgct7i</td>\n      <td>Tiroteo (Remix)</td>\n      <td>Tiroteo - Remix</td>\n      <td>Marc Seguí, Rauw Alejandro, Pol Granch</td>\n      <td>False</td>\n      <td>88</td>\n      <td>0.750</td>\n      <td>0.522</td>\n      <td>9</td>\n      <td>-7.018</td>\n      <td>...</td>\n      <td>0.000000</td>\n      <td>0.0743</td>\n      <td>0.601</td>\n      <td>110.427</td>\n      <td>audio_features</td>\n      <td>spotify:track:4OwhwvKESFtuu06dTgct7i</td>\n      <td>https://api.spotify.com/v1/tracks/4OwhwvKESFtu...</td>\n      <td>https://api.spotify.com/v1/audio-analysis/4Owh...</td>\n      <td>5.359267</td>\n      <td>4</td>\n    </tr>\n    <tr>\n      <th>22</th>\n      <td>3FeVmId7tL5YN8B7R3imoM</td>\n      <td>My Universe</td>\n      <td>My Universe</td>\n      <td>Coldplay, BTS</td>\n      <td>False</td>\n      <td>93</td>\n      <td>0.588</td>\n      <td>0.701</td>\n      <td>9</td>\n      <td>-6.390</td>\n      <td>...</td>\n      <td>0.000000</td>\n      <td>0.2000</td>\n      <td>0.443</td>\n      <td>104.988</td>\n      <td>audio_features</td>\n      <td>spotify:track:3FeVmId7tL5YN8B7R3imoM</td>\n      <td>https://api.spotify.com/v1/tracks/3FeVmId7tL5Y...</td>\n      <td>https://api.spotify.com/v1/audio-analysis/3FeV...</td>\n      <td>3.800000</td>\n      <td>4</td>\n    </tr>\n    <tr>\n      <th>23</th>\n      <td>7E9GeFGfjXw9LAI4ay6rsw</td>\n      <td>El Tóxico</td>\n      <td>El Tóxico</td>\n      <td>Grupo Firme, Carin Leon</td>\n      <td>False</td>\n      <td>80</td>\n      <td>0.626</td>\n      <td>0.503</td>\n      <td>10</td>\n      <td>-5.087</td>\n      <td>...</td>\n      <td>0.000000</td>\n      <td>0.2340</td>\n      <td>0.821</td>\n      <td>72.985</td>\n      <td>audio_features</td>\n      <td>spotify:track:7E9GeFGfjXw9LAI4ay6rsw</td>\n      <td>https://api.spotify.com/v1/tracks/7E9GeFGfjXw9...</td>\n      <td>https://api.spotify.com/v1/audio-analysis/7E9G...</td>\n      <td>2.995767</td>\n      <td>4</td>\n    </tr>\n    <tr>\n      <th>24</th>\n      <td>1q0PYXTbDsirp2l74ng6pn</td>\n      <td>JOSE</td>\n      <td>In Da Getto</td>\n      <td>J Balvin, Skrillex</td>\n      <td>False</td>\n      <td>79</td>\n      <td>0.924</td>\n      <td>0.723</td>\n      <td>8</td>\n      <td>-3.142</td>\n      <td>...</td>\n      <td>0.000026</td>\n      <td>0.1130</td>\n      <td>0.643</td>\n      <td>126.998</td>\n      <td>audio_features</td>\n      <td>spotify:track:1q0PYXTbDsirp2l74ng6pn</td>\n      <td>https://api.spotify.com/v1/tracks/1q0PYXTbDsir...</td>\n      <td>https://api.spotify.com/v1/audio-analysis/1q0P...</td>\n      <td>2.177783</td>\n      <td>4</td>\n    </tr>\n    <tr>\n      <th>25</th>\n      <td>6zSpb8dQRaw0M1dK8PBwQz</td>\n      <td>Cold Heart (PNAU Remix)</td>\n      <td>Cold Heart - PNAU Remix</td>\n      <td>Elton John, Dua Lipa, PNAU</td>\n      <td>False</td>\n      <td>92</td>\n      <td>0.796</td>\n      <td>0.798</td>\n      <td>1</td>\n      <td>-6.312</td>\n      <td>...</td>\n      <td>0.000042</td>\n      <td>0.0952</td>\n      <td>0.942</td>\n      <td>116.032</td>\n      <td>audio_features</td>\n      <td>spotify:track:6zSpb8dQRaw0M1dK8PBwQz</td>\n      <td>https://api.spotify.com/v1/tracks/6zSpb8dQRaw0...</td>\n      <td>https://api.spotify.com/v1/audio-analysis/6zSp...</td>\n      <td>3.378917</td>\n      <td>4</td>\n    </tr>\n    <tr>\n      <th>26</th>\n      <td>4gvrJnKCKIPiacNsWVQwEU</td>\n      <td>love nwantiti (feat. Dj Yo! &amp; AX'EL) [Remix]</td>\n      <td>love nwantiti (feat. Dj Yo! &amp; AX'EL) - Remix</td>\n      <td>CKay, DJ Yo, AX'EL</td>\n      <td>False</td>\n      <td>89</td>\n      <td>0.579</td>\n      <td>0.596</td>\n      <td>8</td>\n      <td>-4.823</td>\n      <td>...</td>\n      <td>0.093800</td>\n      <td>0.0549</td>\n      <td>0.443</td>\n      <td>119.900</td>\n      <td>audio_features</td>\n      <td>spotify:track:4gvrJnKCKIPiacNsWVQwEU</td>\n      <td>https://api.spotify.com/v1/tracks/4gvrJnKCKIPi...</td>\n      <td>https://api.spotify.com/v1/audio-analysis/4gvr...</td>\n      <td>3.139483</td>\n      <td>3</td>\n    </tr>\n    <tr>\n      <th>27</th>\n      <td>3PwRuzdphgedcWVUOVYJ7I</td>\n      <td>VICE VERSA</td>\n      <td>Cúrame</td>\n      <td>Rauw Alejandro</td>\n      <td>True</td>\n      <td>90</td>\n      <td>0.765</td>\n      <td>0.625</td>\n      <td>9</td>\n      <td>-3.599</td>\n      <td>...</td>\n      <td>0.001110</td>\n      <td>0.1120</td>\n      <td>0.262</td>\n      <td>102.101</td>\n      <td>audio_features</td>\n      <td>spotify:track:3PwRuzdphgedcWVUOVYJ7I</td>\n      <td>https://api.spotify.com/v1/tracks/3PwRuzdphged...</td>\n      <td>https://api.spotify.com/v1/audio-analysis/3PwR...</td>\n      <td>2.745100</td>\n      <td>4</td>\n    </tr>\n    <tr>\n      <th>28</th>\n      <td>6G2xXQRSZlEzYsUEb3uvuR</td>\n      <td>Alma Vacía</td>\n      <td>Está Dañada</td>\n      <td>Ivan Cornejo</td>\n      <td>False</td>\n      <td>73</td>\n      <td>0.405</td>\n      <td>0.565</td>\n      <td>1</td>\n      <td>-9.266</td>\n      <td>...</td>\n      <td>0.019500</td>\n      <td>0.1070</td>\n      <td>0.166</td>\n      <td>159.892</td>\n      <td>audio_features</td>\n      <td>spotify:track:6G2xXQRSZlEzYsUEb3uvuR</td>\n      <td>https://api.spotify.com/v1/tracks/6G2xXQRSZlEz...</td>\n      <td>https://api.spotify.com/v1/audio-analysis/6G2x...</td>\n      <td>3.569150</td>\n      <td>3</td>\n    </tr>\n    <tr>\n      <th>29</th>\n      <td>0cOa970mzTWAxKtltpkpLc</td>\n      <td>Miénteme</td>\n      <td>Miénteme</td>\n      <td>TINI, Maria Becerra</td>\n      <td>False</td>\n      <td>88</td>\n      <td>0.850</td>\n      <td>0.541</td>\n      <td>2</td>\n      <td>-4.522</td>\n      <td>...</td>\n      <td>0.000005</td>\n      <td>0.2860</td>\n      <td>0.916</td>\n      <td>92.003</td>\n      <td>audio_features</td>\n      <td>spotify:track:0cOa970mzTWAxKtltpkpLc</td>\n      <td>https://api.spotify.com/v1/tracks/0cOa970mzTWA...</td>\n      <td>https://api.spotify.com/v1/audio-analysis/0cOa...</td>\n      <td>2.754583</td>\n      <td>4</td>\n    </tr>\n    <tr>\n      <th>30</th>\n      <td>64ImcY4fJhY243wr20SR3e</td>\n      <td>Cuidando El Territorio</td>\n      <td>Cuidando El Territorio</td>\n      <td>Calibre 50, Santa Fe Klan, Beto Sierra</td>\n      <td>False</td>\n      <td>79</td>\n      <td>0.716</td>\n      <td>0.654</td>\n      <td>8</td>\n      <td>-6.702</td>\n      <td>...</td>\n      <td>0.000000</td>\n      <td>0.1270</td>\n      <td>0.958</td>\n      <td>180.110</td>\n      <td>audio_features</td>\n      <td>spotify:track:64ImcY4fJhY243wr20SR3e</td>\n      <td>https://api.spotify.com/v1/tracks/64ImcY4fJhY2...</td>\n      <td>https://api.spotify.com/v1/audio-analysis/64Im...</td>\n      <td>3.113883</td>\n      <td>4</td>\n    </tr>\n    <tr>\n      <th>31</th>\n      <td>3pQYf90V5idOGrXzosm9rt</td>\n      <td>Cruisin' with Junior H</td>\n      <td>Se Amerita</td>\n      <td>Junior H</td>\n      <td>False</td>\n      <td>79</td>\n      <td>0.752</td>\n      <td>0.719</td>\n      <td>6</td>\n      <td>-4.399</td>\n      <td>...</td>\n      <td>0.000080</td>\n      <td>0.1260</td>\n      <td>0.544</td>\n      <td>107.582</td>\n      <td>audio_features</td>\n      <td>spotify:track:3pQYf90V5idOGrXzosm9rt</td>\n      <td>https://api.spotify.com/v1/tracks/3pQYf90V5idO...</td>\n      <td>https://api.spotify.com/v1/audio-analysis/3pQY...</td>\n      <td>3.930967</td>\n      <td>4</td>\n    </tr>\n    <tr>\n      <th>32</th>\n      <td>3NqBxTOMCJ3zW9CIP51td4</td>\n      <td>Corta Venas</td>\n      <td>Jugaste y Sufrí</td>\n      <td>Eslabon Armado, DannyLux</td>\n      <td>False</td>\n      <td>85</td>\n      <td>0.390</td>\n      <td>0.499</td>\n      <td>7</td>\n      <td>-7.778</td>\n      <td>...</td>\n      <td>0.000497</td>\n      <td>0.1150</td>\n      <td>0.340</td>\n      <td>200.156</td>\n      <td>audio_features</td>\n      <td>spotify:track:3NqBxTOMCJ3zW9CIP51td4</td>\n      <td>https://api.spotify.com/v1/tracks/3NqBxTOMCJ3z...</td>\n      <td>https://api.spotify.com/v1/audio-analysis/3NqB...</td>\n      <td>4.586567</td>\n      <td>1</td>\n    </tr>\n    <tr>\n      <th>33</th>\n      <td>0giiXonRhODYy4J1iy4Lb3</td>\n      <td>VICE VERSA</td>\n      <td>Sexo Virtual</td>\n      <td>Rauw Alejandro</td>\n      <td>True</td>\n      <td>84</td>\n      <td>0.704</td>\n      <td>0.739</td>\n      <td>8</td>\n      <td>-3.286</td>\n      <td>...</td>\n      <td>0.000019</td>\n      <td>0.0856</td>\n      <td>0.425</td>\n      <td>179.879</td>\n      <td>audio_features</td>\n      <td>spotify:track:0giiXonRhODYy4J1iy4Lb3</td>\n      <td>https://api.spotify.com/v1/tracks/0giiXonRhODY...</td>\n      <td>https://api.spotify.com/v1/audio-analysis/0gii...</td>\n      <td>3.471533</td>\n      <td>4</td>\n    </tr>\n    <tr>\n      <th>34</th>\n      <td>0G2zPzWqVjR68iNPmx2TBe</td>\n      <td>Volando (Remix)</td>\n      <td>Volando - Remix</td>\n      <td>Mora, Bad Bunny, Sech</td>\n      <td>True</td>\n      <td>90</td>\n      <td>0.659</td>\n      <td>0.688</td>\n      <td>6</td>\n      <td>-4.649</td>\n      <td>...</td>\n      <td>0.000000</td>\n      <td>0.1130</td>\n      <td>0.632</td>\n      <td>153.979</td>\n      <td>audio_features</td>\n      <td>spotify:track:0G2zPzWqVjR68iNPmx2TBe</td>\n      <td>https://api.spotify.com/v1/tracks/0G2zPzWqVjR6...</td>\n      <td>https://api.spotify.com/v1/audio-analysis/0G2z...</td>\n      <td>4.557900</td>\n      <td>4</td>\n    </tr>\n    <tr>\n      <th>35</th>\n      <td>55mzJ0LftLnef8sxAjrMkU</td>\n      <td>Debo Entender</td>\n      <td>Debo Entender</td>\n      <td>Santa Fe Klan, Neto Peña, Yoss Bones</td>\n      <td>False</td>\n      <td>78</td>\n      <td>0.678</td>\n      <td>0.457</td>\n      <td>0</td>\n      <td>-6.854</td>\n      <td>...</td>\n      <td>0.000000</td>\n      <td>0.1130</td>\n      <td>0.563</td>\n      <td>72.156</td>\n      <td>audio_features</td>\n      <td>spotify:track:55mzJ0LftLnef8sxAjrMkU</td>\n      <td>https://api.spotify.com/v1/tracks/55mzJ0LftLne...</td>\n      <td>https://api.spotify.com/v1/audio-analysis/55mz...</td>\n      <td>3.973667</td>\n      <td>4</td>\n    </tr>\n    <tr>\n      <th>36</th>\n      <td>7hU3IHwjX150XLoTVmjD0q</td>\n      <td>LALISA</td>\n      <td>MONEY</td>\n      <td>LISA</td>\n      <td>False</td>\n      <td>86</td>\n      <td>0.831</td>\n      <td>0.554</td>\n      <td>1</td>\n      <td>-9.998</td>\n      <td>...</td>\n      <td>0.000061</td>\n      <td>0.1520</td>\n      <td>0.396</td>\n      <td>140.026</td>\n      <td>audio_features</td>\n      <td>spotify:track:7hU3IHwjX150XLoTVmjD0q</td>\n      <td>https://api.spotify.com/v1/tracks/7hU3IHwjX150...</td>\n      <td>https://api.spotify.com/v1/audio-analysis/7hU3...</td>\n      <td>2.803800</td>\n      <td>4</td>\n    </tr>\n    <tr>\n      <th>37</th>\n      <td>704LUEih663hiE3CnyUrFW</td>\n      <td>SEJODIOTO</td>\n      <td>SEJODIOTO</td>\n      <td>KAROL G</td>\n      <td>True</td>\n      <td>82</td>\n      <td>0.822</td>\n      <td>0.736</td>\n      <td>1</td>\n      <td>-3.969</td>\n      <td>...</td>\n      <td>0.000781</td>\n      <td>0.0748</td>\n      <td>0.679</td>\n      <td>175.930</td>\n      <td>audio_features</td>\n      <td>spotify:track:704LUEih663hiE3CnyUrFW</td>\n      <td>https://api.spotify.com/v1/tracks/704LUEih663h...</td>\n      <td>https://api.spotify.com/v1/audio-analysis/704L...</td>\n      <td>3.018450</td>\n      <td>4</td>\n    </tr>\n    <tr>\n      <th>38</th>\n      <td>4DdnffqoFr9wDRlCACNmGf</td>\n      <td>A Mis 20</td>\n      <td>Porte Exuberante</td>\n      <td>Natanael Cano, Oscar Maydon</td>\n      <td>False</td>\n      <td>79</td>\n      <td>0.685</td>\n      <td>0.831</td>\n      <td>4</td>\n      <td>-4.380</td>\n      <td>...</td>\n      <td>0.000000</td>\n      <td>0.1770</td>\n      <td>0.486</td>\n      <td>97.431</td>\n      <td>audio_features</td>\n      <td>spotify:track:4DdnffqoFr9wDRlCACNmGf</td>\n      <td>https://api.spotify.com/v1/tracks/4DdnffqoFr9w...</td>\n      <td>https://api.spotify.com/v1/audio-analysis/4Ddn...</td>\n      <td>3.565733</td>\n      <td>3</td>\n    </tr>\n    <tr>\n      <th>39</th>\n      <td>0akyEssGRVHstqCSWXusJL</td>\n      <td>mix pa llorar en tu cuarto</td>\n      <td>Fuentes de Ortiz</td>\n      <td>Ed Maverick</td>\n      <td>True</td>\n      <td>79</td>\n      <td>0.830</td>\n      <td>0.159</td>\n      <td>1</td>\n      <td>-14.461</td>\n      <td>...</td>\n      <td>0.000020</td>\n      <td>0.3620</td>\n      <td>0.189</td>\n      <td>104.950</td>\n      <td>audio_features</td>\n      <td>spotify:track:0akyEssGRVHstqCSWXusJL</td>\n      <td>https://api.spotify.com/v1/tracks/0akyEssGRVHs...</td>\n      <td>https://api.spotify.com/v1/audio-analysis/0aky...</td>\n      <td>3.456667</td>\n      <td>4</td>\n    </tr>\n    <tr>\n      <th>40</th>\n      <td>6w8yBI2vthyN9UnwO4UBWb</td>\n      <td>Entre Nosotros</td>\n      <td>Entre Nosotros</td>\n      <td>Tiago PZK, LIT killah</td>\n      <td>False</td>\n      <td>89</td>\n      <td>0.729</td>\n      <td>0.513</td>\n      <td>5</td>\n      <td>-6.345</td>\n      <td>...</td>\n      <td>0.000001</td>\n      <td>0.1370</td>\n      <td>0.789</td>\n      <td>170.064</td>\n      <td>audio_features</td>\n      <td>spotify:track:6w8yBI2vthyN9UnwO4UBWb</td>\n      <td>https://api.spotify.com/v1/tracks/6w8yBI2vthyN...</td>\n      <td>https://api.spotify.com/v1/audio-analysis/6w8y...</td>\n      <td>3.205883</td>\n      <td>3</td>\n    </tr>\n    <tr>\n      <th>41</th>\n      <td>3Wrjm47oTz2sjIgck11l5e</td>\n      <td>Chosen</td>\n      <td>Beggin'</td>\n      <td>Måneskin</td>\n      <td>False</td>\n      <td>96</td>\n      <td>0.714</td>\n      <td>0.800</td>\n      <td>11</td>\n      <td>-4.808</td>\n      <td>...</td>\n      <td>0.000000</td>\n      <td>0.3590</td>\n      <td>0.589</td>\n      <td>134.002</td>\n      <td>audio_features</td>\n      <td>spotify:track:3Wrjm47oTz2sjIgck11l5e</td>\n      <td>https://api.spotify.com/v1/tracks/3Wrjm47oTz2s...</td>\n      <td>https://api.spotify.com/v1/audio-analysis/3Wrj...</td>\n      <td>3.526000</td>\n      <td>4</td>\n    </tr>\n    <tr>\n      <th>42</th>\n      <td>5Z9KJZvQzH6PFmb8SNkxuk</td>\n      <td>MONTERO</td>\n      <td>INDUSTRY BABY (feat. Jack Harlow)</td>\n      <td>Lil Nas X, Jack Harlow</td>\n      <td>True</td>\n      <td>88</td>\n      <td>0.741</td>\n      <td>0.691</td>\n      <td>10</td>\n      <td>-7.395</td>\n      <td>...</td>\n      <td>0.000000</td>\n      <td>0.0476</td>\n      <td>0.892</td>\n      <td>150.087</td>\n      <td>audio_features</td>\n      <td>spotify:track:5Z9KJZvQzH6PFmb8SNkxuk</td>\n      <td>https://api.spotify.com/v1/tracks/5Z9KJZvQzH6P...</td>\n      <td>https://api.spotify.com/v1/audio-analysis/5Z9K...</td>\n      <td>3.539217</td>\n      <td>4</td>\n    </tr>\n    <tr>\n      <th>43</th>\n      <td>1s59X35jDULAyOGmBuTAnd</td>\n      <td>Yo Ya No Vuelvo Contigo (En Vivo)</td>\n      <td>Yo Ya No Vuelvo Contigo - En Vivo</td>\n      <td>Lenin Ramírez, Grupo Firme</td>\n      <td>True</td>\n      <td>78</td>\n      <td>0.643</td>\n      <td>0.350</td>\n      <td>4</td>\n      <td>-5.924</td>\n      <td>...</td>\n      <td>0.000000</td>\n      <td>0.1020</td>\n      <td>0.541</td>\n      <td>118.199</td>\n      <td>audio_features</td>\n      <td>spotify:track:1s59X35jDULAyOGmBuTAnd</td>\n      <td>https://api.spotify.com/v1/tracks/1s59X35jDULA...</td>\n      <td>https://api.spotify.com/v1/audio-analysis/1s59...</td>\n      <td>4.007617</td>\n      <td>1</td>\n    </tr>\n    <tr>\n      <th>44</th>\n      <td>1yoMvmasuxZfqHEipJhRbp</td>\n      <td>PAPI JUANCHO</td>\n      <td>Hawái</td>\n      <td>Maluma</td>\n      <td>False</td>\n      <td>79</td>\n      <td>0.783</td>\n      <td>0.727</td>\n      <td>6</td>\n      <td>-3.454</td>\n      <td>...</td>\n      <td>0.000025</td>\n      <td>0.0626</td>\n      <td>0.558</td>\n      <td>180.067</td>\n      <td>audio_features</td>\n      <td>spotify:track:1yoMvmasuxZfqHEipJhRbp</td>\n      <td>https://api.spotify.com/v1/tracks/1yoMvmasuxZf...</td>\n      <td>https://api.spotify.com/v1/audio-analysis/1yoM...</td>\n      <td>3.318533</td>\n      <td>4</td>\n    </tr>\n    <tr>\n      <th>45</th>\n      <td>1ahCrpeTt94LL7y1aXw0Y8</td>\n      <td>Linda</td>\n      <td>Linda</td>\n      <td>Tokischa, ROSALÍA</td>\n      <td>True</td>\n      <td>82</td>\n      <td>0.891</td>\n      <td>0.751</td>\n      <td>2</td>\n      <td>-3.150</td>\n      <td>...</td>\n      <td>0.000598</td>\n      <td>0.1900</td>\n      <td>0.711</td>\n      <td>115.046</td>\n      <td>audio_features</td>\n      <td>spotify:track:1ahCrpeTt94LL7y1aXw0Y8</td>\n      <td>https://api.spotify.com/v1/tracks/1ahCrpeTt94L...</td>\n      <td>https://api.spotify.com/v1/audio-analysis/1ahC...</td>\n      <td>2.400317</td>\n      <td>4</td>\n    </tr>\n    <tr>\n      <th>46</th>\n      <td>3elpkpwYlmUbuvmVps08lJ</td>\n      <td>Te Ire A Buscar</td>\n      <td>Te Ire A Buscar</td>\n      <td>Santa Fe Klan, Nanpa Básico</td>\n      <td>False</td>\n      <td>77</td>\n      <td>0.684</td>\n      <td>0.580</td>\n      <td>4</td>\n      <td>-7.682</td>\n      <td>...</td>\n      <td>0.000000</td>\n      <td>0.1350</td>\n      <td>0.233</td>\n      <td>89.954</td>\n      <td>audio_features</td>\n      <td>spotify:track:3elpkpwYlmUbuvmVps08lJ</td>\n      <td>https://api.spotify.com/v1/tracks/3elpkpwYlmUb...</td>\n      <td>https://api.spotify.com/v1/audio-analysis/3elp...</td>\n      <td>3.634083</td>\n      <td>4</td>\n    </tr>\n    <tr>\n      <th>47</th>\n      <td>0fea68AdmYNygeTGI4RC18</td>\n      <td>OASIS</td>\n      <td>LA CANCIÓN</td>\n      <td>J Balvin, Bad Bunny</td>\n      <td>False</td>\n      <td>83</td>\n      <td>0.754</td>\n      <td>0.646</td>\n      <td>7</td>\n      <td>-5.795</td>\n      <td>...</td>\n      <td>0.000018</td>\n      <td>0.1080</td>\n      <td>0.429</td>\n      <td>176.089</td>\n      <td>audio_features</td>\n      <td>spotify:track:0fea68AdmYNygeTGI4RC18</td>\n      <td>https://api.spotify.com/v1/tracks/0fea68AdmYNy...</td>\n      <td>https://api.spotify.com/v1/audio-analysis/0fea...</td>\n      <td>4.042883</td>\n      <td>4</td>\n    </tr>\n    <tr>\n      <th>48</th>\n      <td>0ldT3gl7aGNzrJyd4b1CA4</td>\n      <td>En Tu Perra Vida</td>\n      <td>En Tu Perra Vida</td>\n      <td>Grupo Firme, Lenin Ramirez</td>\n      <td>False</td>\n      <td>78</td>\n      <td>0.546</td>\n      <td>0.438</td>\n      <td>5</td>\n      <td>-4.748</td>\n      <td>...</td>\n      <td>0.000000</td>\n      <td>0.2610</td>\n      <td>0.568</td>\n      <td>112.136</td>\n      <td>audio_features</td>\n      <td>spotify:track:0ldT3gl7aGNzrJyd4b1CA4</td>\n      <td>https://api.spotify.com/v1/tracks/0ldT3gl7aGNz...</td>\n      <td>https://api.spotify.com/v1/audio-analysis/0ldT...</td>\n      <td>3.977950</td>\n      <td>3</td>\n    </tr>\n    <tr>\n      <th>49</th>\n      <td>3p6eieHX6oEOzJStPtEsLu</td>\n      <td>Simplemente Gracias</td>\n      <td>Si Te Pudiera Mentir</td>\n      <td>Calibre 50</td>\n      <td>False</td>\n      <td>75</td>\n      <td>0.764</td>\n      <td>0.585</td>\n      <td>2</td>\n      <td>-7.796</td>\n      <td>...</td>\n      <td>0.002940</td>\n      <td>0.3690</td>\n      <td>0.890</td>\n      <td>90.013</td>\n      <td>audio_features</td>\n      <td>spotify:track:3p6eieHX6oEOzJStPtEsLu</td>\n      <td>https://api.spotify.com/v1/tracks/3p6eieHX6oEO...</td>\n      <td>https://api.spotify.com/v1/audio-analysis/3p6e...</td>\n      <td>4.260667</td>\n      <td>4</td>\n    </tr>\n  </tbody>\n</table>\n<p>50 rows × 23 columns</p>\n</div>"
     },
     "metadata": {}
    }
   ],
   "execution_count": 8
  },
  {
   "cell_type": "markdown",
   "source": "<a style='text-decoration:none;line-height:16px;display:flex;color:#5B5B62;padding:10px;justify-content:end;' href='https://deepnote.com?utm_source=created-in-deepnote-cell&projectId=afd45396-491d-4511-8873-672a103c2ea0' target=\"_blank\">\n<img alt='Created in deepnote.com' style='display:inline;max-height:16px;margin:0px;margin-right:7.5px;' src='data:image/svg+xml;base64,PD94bWwgdmVyc2lvbj0iMS4wIiBlbmNvZGluZz0iVVRGLTgiPz4KPHN2ZyB3aWR0aD0iODBweCIgaGVpZ2h0PSI4MHB4IiB2aWV3Qm94PSIwIDAgODAgODAiIHZlcnNpb249IjEuMSIgeG1sbnM9Imh0dHA6Ly93d3cudzMub3JnLzIwMDAvc3ZnIiB4bWxuczp4bGluaz0iaHR0cDovL3d3dy53My5vcmcvMTk5OS94bGluayI+CiAgICA8IS0tIEdlbmVyYXRvcjogU2tldGNoIDU0LjEgKDc2NDkwKSAtIGh0dHBzOi8vc2tldGNoYXBwLmNvbSAtLT4KICAgIDx0aXRsZT5Hcm91cCAzPC90aXRsZT4KICAgIDxkZXNjPkNyZWF0ZWQgd2l0aCBTa2V0Y2guPC9kZXNjPgogICAgPGcgaWQ9IkxhbmRpbmciIHN0cm9rZT0ibm9uZSIgc3Ryb2tlLXdpZHRoPSIxIiBmaWxsPSJub25lIiBmaWxsLXJ1bGU9ImV2ZW5vZGQiPgogICAgICAgIDxnIGlkPSJBcnRib2FyZCIgdHJhbnNmb3JtPSJ0cmFuc2xhdGUoLTEyMzUuMDAwMDAwLCAtNzkuMDAwMDAwKSI+CiAgICAgICAgICAgIDxnIGlkPSJHcm91cC0zIiB0cmFuc2Zvcm09InRyYW5zbGF0ZSgxMjM1LjAwMDAwMCwgNzkuMDAwMDAwKSI+CiAgICAgICAgICAgICAgICA8cG9seWdvbiBpZD0iUGF0aC0yMCIgZmlsbD0iIzAyNjVCNCIgcG9pbnRzPSIyLjM3NjIzNzYyIDgwIDM4LjA0NzY2NjcgODAgNTcuODIxNzgyMiA3My44MDU3NTkyIDU3LjgyMTc4MjIgMzIuNzU5MjczOSAzOS4xNDAyMjc4IDMxLjY4MzE2ODMiPjwvcG9seWdvbj4KICAgICAgICAgICAgICAgIDxwYXRoIGQ9Ik0zNS4wMDc3MTgsODAgQzQyLjkwNjIwMDcsNzYuNDU0OTM1OCA0Ny41NjQ5MTY3LDcxLjU0MjI2NzEgNDguOTgzODY2LDY1LjI2MTk5MzkgQzUxLjExMjI4OTksNTUuODQxNTg0MiA0MS42NzcxNzk1LDQ5LjIxMjIyODQgMjUuNjIzOTg0Niw0OS4yMTIyMjg0IEMyNS40ODQ5Mjg5LDQ5LjEyNjg0NDggMjkuODI2MTI5Niw0My4yODM4MjQ4IDM4LjY0NzU4NjksMzEuNjgzMTY4MyBMNzIuODcxMjg3MSwzMi41NTQ0MjUgTDY1LjI4MDk3Myw2Ny42NzYzNDIxIEw1MS4xMTIyODk5LDc3LjM3NjE0NCBMMzUuMDA3NzE4LDgwIFoiIGlkPSJQYXRoLTIyIiBmaWxsPSIjMDAyODY4Ij48L3BhdGg+CiAgICAgICAgICAgICAgICA8cGF0aCBkPSJNMCwzNy43MzA0NDA1IEwyNy4xMTQ1MzcsMC4yNTcxMTE0MzYgQzYyLjM3MTUxMjMsLTEuOTkwNzE3MDEgODAsMTAuNTAwMzkyNyA4MCwzNy43MzA0NDA1IEM4MCw2NC45NjA0ODgyIDY0Ljc3NjUwMzgsNzkuMDUwMzQxNCAzNC4zMjk1MTEzLDgwIEM0Ny4wNTUzNDg5LDc3LjU2NzA4MDggNTMuNDE4MjY3Nyw3MC4zMTM2MTAzIDUzLjQxODI2NzcsNTguMjM5NTg4NSBDNTMuNDE4MjY3Nyw0MC4xMjg1NTU3IDM2LjMwMzk1NDQsMzcuNzMwNDQwNSAyNS4yMjc0MTcsMzcuNzMwNDQwNSBDMTcuODQzMDU4NiwzNy43MzA0NDA1IDkuNDMzOTE5NjYsMzcuNzMwNDQwNSAwLDM3LjczMDQ0MDUgWiIgaWQ9IlBhdGgtMTkiIGZpbGw9IiMzNzkzRUYiPjwvcGF0aD4KICAgICAgICAgICAgPC9nPgogICAgICAgIDwvZz4KICAgIDwvZz4KPC9zdmc+' > </img>\nCreated in <span style='font-weight:600;margin-left:4px;'>Deepnote</span></a>",
   "metadata": {
    "tags": [],
    "created_in_deepnote_cell": true,
    "deepnote_cell_type": "markdown"
   }
  }
 ],
 "nbformat": 4,
 "nbformat_minor": 2,
 "metadata": {
  "orig_nbformat": 2,
  "deepnote": {
   "is_reactive": false
  },
  "deepnote_notebook_id": "1718fabe-4a87-40b3-afe8-62b2df5efdc9",
  "deepnote_execution_queue": []
 }
}